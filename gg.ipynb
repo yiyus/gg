{
 "cells": [
  {
   "cell_type": "code",
   "execution_count": 1,
   "id": "fc5a0be9",
   "metadata": {},
   "outputs": [
    {
     "data": {
      "text/html": [
       "<pre class=\"language-APL\">clear ws\n",
       "</pre>"
      ]
     },
     "execution_count": 1,
     "metadata": {},
     "output_type": "execute_result"
    }
   ],
   "source": [
    ")clear\n",
    "⎕IO←0"
   ]
  },
  {
   "cell_type": "markdown",
   "id": "3b92f35e",
   "metadata": {},
   "source": [
    "# Grain growth model\n",
    "\n",
    "## Introduction\n",
    "\n",
    "This document describes a grain growth model. The model is similar to the one presented in [[Traka 2022]](https://doi.org/10.4233/uuid:962f6655-a1b8-4c38-8467-0b2b651ab629), but with some simplifications and written in [APL](https://dyalog.com).\n",
    "\n",
    "## Model overview\n",
    "\n",
    "Our goal is to simulate the evolution of a steel microstructure during a grain growth process. The microstructure will be represented as a 2D grid of square cells, where each cell has assigned a crystallographic orientation.\n",
    "\n",
    "The model considers, for each cell, a transformation ratio corresponding to each of its first-order neighbours. During a simulation step, the ratio of transformation into each neighbour is calculated for all cells, and the time increment is selected such that at least one cell will transform (will reach a transformation ratio of 1).\n",
    "\n",
    "The results of the model will be the final microstructure after the specified time and the evolution of grain size during the simulation.\n",
    "\n",
    "## Growth rate of each neighbour\n",
    "\n",
    "The calculation of the transformation rate can be performed taking into account that the energy difference resulting from the transformation must be equal to the work performed by the pressure at the boundary (or boundaries). A larger energy difference will imply a larger pressure and therefore a faster transformation rate.\n",
    "\n",
    "### Simplified example\n",
    "\n",
    "This section describes the procedure used for the calculation of transformation rates in APL. Instead of showing a real example with calculations, we will demonstrate how the model works using a simplified example.\n",
    "\n",
    "#### Initial microstructure\n",
    "\n",
    "Our sample microstructure is composed of 9 cells. We assume it is periodic. In the model, each cell will have associated a crystallographic orientation. In this example, we will just give them names corresponding to the cardinal (`N S W E`) and ordinal (`NW NE SW SE`) directions and the additional name `O` for the center cell.\n",
    "\n",
    "We give to our microstructure the name `o`."
   ]
  },
  {
   "cell_type": "code",
   "execution_count": 2,
   "id": "53c3f0f7",
   "metadata": {},
   "outputs": [
    {
     "data": {
      "text/html": [
       "<pre class=\"language-APL\">┌──┬─┬──┐\n",
       "│NW│N│NE│\n",
       "├──┼─┼──┤\n",
       "│W │O│E │\n",
       "├──┼─┼──┤\n",
       "│SW│S│SE│\n",
       "└──┴─┴──┘\n",
       "</pre>"
      ]
     },
     "execution_count": 2,
     "metadata": {},
     "output_type": "execute_result"
    }
   ],
   "source": [
    "⊢o←3 3⍴'NW' 'N' 'NE' 'W' 'O' 'E' 'SW' 'S' 'SE'"
   ]
  },
  {
   "cell_type": "markdown",
   "id": "576a9783",
   "metadata": {},
   "source": [
    "#### First-order neighbours\n",
    "\n",
    "Now, we want to find the first-order neighbours. We will need to know which are the neighbours to calculate misorientations later.\n",
    "\n",
    "Instead of searching neighbours for each of the individual cells one by one, what we want is a set of four arrays, each of them similar to the one that represents the initial microstructure (the array `o`), but corresponding to the neighbours for each cell in the four directions. We can obtain these \"neighbour arrays\" just rotating the original array along the vertical and horizontal directions."
   ]
  },
  {
   "cell_type": "code",
   "execution_count": 3,
   "id": "071e0006",
   "metadata": {},
   "outputs": [
    {
     "data": {
      "text/html": [
       "<pre class=\"language-APL\">┌─────────┬─────────┬─────────┬─────────┐\n",
       "│┌──┬─┬──┐│┌──┬─┬──┐│┌──┬──┬─┐│┌─┬──┬──┐│\n",
       "││SW│S│SE│││W │O│E │││NE│NW│N│││N│NE│NW││\n",
       "│├──┼─┼──┤│├──┼─┼──┤│├──┼──┼─┤│├─┼──┼──┤│\n",
       "││NW│N│NE│││SW│S│SE│││E │W │O│││O│E │W ││\n",
       "│├──┼─┼──┤│├──┼─┼──┤│├──┼──┼─┤│├─┼──┼──┤│\n",
       "││W │O│E │││NW│N│NE│││SE│SW│S│││S│SE│SW││\n",
       "│└──┴─┴──┘│└──┴─┴──┘│└──┴──┴─┘│└─┴──┴──┘│\n",
       "└─────────┴─────────┴─────────┴─────────┘\n",
       "</pre>"
      ]
     },
     "execution_count": 3,
     "metadata": {},
     "output_type": "execute_result"
    }
   ],
   "source": [
    "⊢(n s w e)←¯1 1(⊖¨,⌽¨)⊂o  ⍝ north, sout, west and east neighbours"
   ]
  },
  {
   "cell_type": "markdown",
   "id": "46492d14",
   "metadata": {},
   "source": [
    "Notice that, for the center cell, the neighbours in each direction will be `N`, `S`, `W` and `E`, as expected. For convenience, we will define a function `O` to extract the value of the center cell:"
   ]
  },
  {
   "cell_type": "code",
   "execution_count": 4,
   "id": "f0673491",
   "metadata": {},
   "outputs": [
    {
     "data": {
      "text/html": [
       "<pre class=\"language-APL\">NSWE\n",
       "</pre>"
      ]
     },
     "execution_count": 4,
     "metadata": {},
     "output_type": "execute_result"
    }
   ],
   "source": [
    "O←(⊂1 1)∘⊃\n",
    "O¨n s w e"
   ]
  },
  {
   "cell_type": "markdown",
   "id": "443e9a6b",
   "metadata": {},
   "source": [
    "#### Misorientation angle\n",
    "\n",
    "At continuation, we will calculate the misorientation angle (or disorientation) between each cell and its neighbours. In the model, the disorientation function `D` will return an angle or some other representation of the misorientation between both crystallographic orientations. In our example, we will simply add a hyphen between the orientations (eg. the disorientation between the center cell `O` and the south cell `S` is `O-S`)."
   ]
  },
  {
   "cell_type": "code",
   "execution_count": 5,
   "id": "0a7c8c25",
   "metadata": {},
   "outputs": [
    {
     "data": {
      "text/html": [
       "<pre class=\"language-APL\">┌─────────────────┬─────────────────┐\n",
       "│┌─────┬───┬─────┐│┌─────┬───┬─────┐│\n",
       "││NW-SW│N-S│NE-SE│││NW-W │N-O│NE-E ││\n",
       "│├─────┼───┼─────┤│├─────┼───┼─────┤│\n",
       "││W-NW │O-N│E-NE │││W-SW │O-S│E-SE ││\n",
       "│├─────┼───┼─────┤│├─────┼───┼─────┤│\n",
       "││SW-W │S-O│SE-E │││SW-NW│S-N│SE-NE││\n",
       "│└─────┴───┴─────┘│└─────┴───┴─────┘│\n",
       "├─────────────────┼─────────────────┤\n",
       "│┌─────┬────┬────┐│┌────┬────┬─────┐│\n",
       "││NW-NE│N-NW│NE-N│││NW-N│N-NE│NE-NW││\n",
       "│├─────┼────┼────┤│├────┼────┼─────┤│\n",
       "││W-E  │O-W │E-O │││W-O │O-E │E-W  ││\n",
       "│├─────┼────┼────┤│├────┼────┼─────┤│\n",
       "││SW-SE│S-SW│SE-S│││SW-S│S-SE│SE-SW││\n",
       "│└─────┴────┴────┘│└────┴────┴─────┘│\n",
       "└─────────────────┴─────────────────┘\n",
       "</pre>"
      ]
     },
     "execution_count": 5,
     "metadata": {},
     "output_type": "execute_result"
    }
   ],
   "source": [
    "D←{⍺,'-',⍵}¨\n",
    "2 2⍴(on os ow oe)←o∘D¨n s w e  ⍝ disorientation with north, south, west and east neighbour"
   ]
  },
  {
   "cell_type": "markdown",
   "id": "b5b53b08",
   "metadata": {},
   "source": [
    "#### Grain boundary energies and mobilities at each face\n",
    "\n",
    "We use these values to calculate the corresponding boundary energies, applying the [Read-Shockley equation](#Boundary-energy). In this example, we will simply represent the boundary energy for the misorientation `O-N` as `G(O-N)`."
   ]
  },
  {
   "cell_type": "code",
   "execution_count": 6,
   "id": "35f1fb3c",
   "metadata": {},
   "outputs": [
    {
     "data": {
      "text/html": [
       "<pre class=\"language-APL\">┌──────────────────────────┬──────────────────────────┐\n",
       "│┌────────┬──────┬────────┐│┌────────┬──────┬────────┐│\n",
       "││G(NW-SW)│G(N-S)│G(NE-SE)│││G(NW-W) │G(N-O)│G(NE-E) ││\n",
       "│├────────┼──────┼────────┤│├────────┼──────┼────────┤│\n",
       "││G(W-NW) │G(O-N)│G(E-NE) │││G(W-SW) │G(O-S)│G(E-SE) ││\n",
       "│├────────┼──────┼────────┤│├────────┼──────┼────────┤│\n",
       "││G(SW-W) │G(S-O)│G(SE-E) │││G(SW-NW)│G(S-N)│G(SE-NE)││\n",
       "│└────────┴──────┴────────┘│└────────┴──────┴────────┘│\n",
       "├──────────────────────────┼──────────────────────────┤\n",
       "│┌────────┬───────┬───────┐│┌───────┬───────┬────────┐│\n",
       "││G(NW-NE)│G(N-NW)│G(NE-N)│││G(NW-N)│G(N-NE)│G(NE-NW)││\n",
       "│├────────┼───────┼───────┤│├───────┼───────┼────────┤│\n",
       "││G(W-E)  │G(O-W) │G(E-O) │││G(W-O) │G(O-E) │G(E-W)  ││\n",
       "│├────────┼───────┼───────┤│├───────┼───────┼────────┤│\n",
       "││G(SW-SE)│G(S-SW)│G(SE-S)│││G(SW-S)│G(S-SE)│G(SE-SW)││\n",
       "│└────────┴───────┴───────┘│└───────┴───────┴────────┘│\n",
       "└──────────────────────────┴──────────────────────────┘\n",
       "</pre>"
      ]
     },
     "execution_count": 6,
     "metadata": {},
     "output_type": "execute_result"
    }
   ],
   "source": [
    "G←{'G(',⍵,')'}¨\n",
    "2 2⍴(gon gos gow goe)←G¨on os ow oe  ⍝ boundary energy at north, south, west and east face"
   ]
  },
  {
   "cell_type": "markdown",
   "id": "8c02c92f",
   "metadata": {},
   "source": [
    "Boundary mobilities (`mon mos mow moe`) are calculated as a function of the disorientations and also the temperature `T`, using [Humphrey's law](#Boundary-mobility)."
   ]
  },
  {
   "cell_type": "code",
   "execution_count": 7,
   "id": "9c374049",
   "metadata": {},
   "outputs": [
    {
     "data": {
      "text/html": [
       "<pre class=\"language-APL\">┌────────────────────────────────┬────────────────────────────────┐\n",
       "│┌──────────┬────────┬──────────┐│┌──────────┬────────┬──────────┐│\n",
       "││M(T,NW-SW)│M(T,N-S)│M(T,NE-SE)│││M(T,NW-W) │M(T,N-O)│M(T,NE-E) ││\n",
       "│├──────────┼────────┼──────────┤│├──────────┼────────┼──────────┤│\n",
       "││M(T,W-NW) │M(T,O-N)│M(T,E-NE) │││M(T,W-SW) │M(T,O-S)│M(T,E-SE) ││\n",
       "│├──────────┼────────┼──────────┤│├──────────┼────────┼──────────┤│\n",
       "││M(T,SW-W) │M(T,S-O)│M(T,SE-E) │││M(T,SW-NW)│M(T,S-N)│M(T,SE-NE)││\n",
       "│└──────────┴────────┴──────────┘│└──────────┴────────┴──────────┘│\n",
       "├────────────────────────────────┼────────────────────────────────┤\n",
       "│┌──────────┬─────────┬─────────┐│┌─────────┬─────────┬──────────┐│\n",
       "││M(T,NW-NE)│M(T,N-NW)│M(T,NE-N)│││M(T,NW-N)│M(T,N-NE)│M(T,NE-NW)││\n",
       "│├──────────┼─────────┼─────────┤│├─────────┼─────────┼──────────┤│\n",
       "││M(T,W-E)  │M(T,O-W) │M(T,E-O) │││M(T,W-O) │M(T,O-E) │M(T,E-W)  ││\n",
       "│├──────────┼─────────┼─────────┤│├─────────┼─────────┼──────────┤│\n",
       "││M(T,SW-SE)│M(T,S-SW)│M(T,SE-S)│││M(T,SW-S)│M(T,S-SE)│M(T,SE-SW)││\n",
       "│└──────────┴─────────┴─────────┘│└─────────┴─────────┴──────────┘│\n",
       "└────────────────────────────────┴────────────────────────────────┘\n",
       "</pre>"
      ]
     },
     "execution_count": 7,
     "metadata": {},
     "output_type": "execute_result"
    }
   ],
   "source": [
    "M←{'M(T,',⍵,')'}¨\n",
    "2 2⍴(mon mos mow moe)←M¨on os ow oe  ⍝ boundary mobility at north, south, west and east face"
   ]
  },
  {
   "cell_type": "markdown",
   "id": "af9c763f",
   "metadata": {},
   "source": [
    "#### Grain boundary energy of each cell\n",
    "\n",
    "The boundary energies of the first-order neighbours can be added to obtain the current boundary energy of each cell, which we call `go`."
   ]
  },
  {
   "cell_type": "code",
   "execution_count": 8,
   "id": "5bd48da7",
   "metadata": {},
   "outputs": [
    {
     "data": {
      "text/html": [
       "<pre class=\"language-APL\">┌─────────────────────────────────┬─────────────────────────────┬─────────────────────────────────┐\n",
       "│G(NW-SW)+G(NW-W)+G(NW-NE)+G(NW-N)│G(N-S)+G(N-O)+G(N-NW)+G(N-NE)│G(NE-SE)+G(NE-E)+G(NE-N)+G(NE-NW)│\n",
       "├─────────────────────────────────┼─────────────────────────────┼─────────────────────────────────┤\n",
       "│G(W-NW)+G(W-SW)+G(W-E)+G(W-O)    │G(O-N)+G(O-S)+G(O-W)+G(O-E)  │G(E-NE)+G(E-SE)+G(E-O)+G(E-W)    │\n",
       "├─────────────────────────────────┼─────────────────────────────┼─────────────────────────────────┤\n",
       "│G(SW-W)+G(SW-NW)+G(SW-SE)+G(SW-S)│G(S-O)+G(S-N)+G(S-SW)+G(S-SE)│G(SE-E)+G(SE-NE)+G(SE-S)+G(SE-SW)│\n",
       "└─────────────────────────────────┴─────────────────────────────┴─────────────────────────────────┘\n",
       "</pre>"
      ]
     },
     "execution_count": 8,
     "metadata": {},
     "output_type": "execute_result"
    }
   ],
   "source": [
    "SUM←{⊃(⊣,¨'+',¨⊢)/⍵}\n",
    "⊢go←SUM gon gos gow goe  ⍝ current boundary energy"
   ]
  },
  {
   "cell_type": "markdown",
   "id": "69d748fc",
   "metadata": {},
   "source": [
    "The boundary energy of the central cell is:"
   ]
  },
  {
   "cell_type": "code",
   "execution_count": 9,
   "id": "d88e2147",
   "metadata": {},
   "outputs": [
    {
     "data": {
      "text/html": [
       "<pre class=\"language-APL\">G(O-N)+G(O-S)+G(O-W)+G(O-E)\n",
       "</pre>"
      ]
     },
     "execution_count": 9,
     "metadata": {},
     "output_type": "execute_result"
    }
   ],
   "source": [
    "O go"
   ]
  },
  {
   "cell_type": "markdown",
   "id": "9294ea0a",
   "metadata": {},
   "source": [
    "#### Boundary energy after transformation\n",
    "\n",
    "When a cell transforms, its boundary energy will change. If we assume that the environment of the cell remains unchanged, we will be able to calculate the new boundary energy at each face from the relative disorientations between the neighbours.\n",
    "\n",
    "For instance, to find the energy corresponding to the transformation into the north neighbour, we calculate the boundary energy substituting the cell `O` by the cell `N`. So, we will need to know the disorientation between the north and the south, west and east neighbours (of course, the disorientation of an orientation with itself is always zero, so the `N-N` misorientation does not need to be calculated)."
   ]
  },
  {
   "cell_type": "code",
   "execution_count": 10,
   "id": "836b80e2",
   "metadata": {},
   "outputs": [
    {
     "data": {
      "text/html": [
       "<pre class=\"language-APL\">┌─────────────────┬─────────────────┬─────────────────┐\n",
       "│┌─────┬───┬─────┐│┌─────┬────┬────┐│┌────┬────┬─────┐│\n",
       "││SW-W │S-O│SE-E │││SW-NE│S-NW│SE-N│││SW-N│S-NE│SE-NW││\n",
       "│├─────┼───┼─────┤│├─────┼────┼────┤│├────┼────┼─────┤│\n",
       "││NW-SW│N-S│NE-SE│││NW-E │N-W │NE-O│││NW-O│N-E │NE-W ││\n",
       "│├─────┼───┼─────┤│├─────┼────┼────┤│├────┼────┼─────┤│\n",
       "││W-NW │O-N│E-NE │││W-SE │O-SW│E-S │││W-S │O-SE│E-SW ││\n",
       "│└─────┴───┴─────┘│└─────┴────┴────┘│└────┴────┴─────┘│\n",
       "└─────────────────┴─────────────────┴─────────────────┘\n",
       "</pre>"
      ]
     },
     "execution_count": 10,
     "metadata": {},
     "output_type": "execute_result"
    },
    {
     "data": {
      "text/html": [
       "<pre class=\"language-APL\">┌─────────────────┬─────────────────┬─────────────────┐\n",
       "│┌─────┬───┬─────┐│┌─────┬────┬────┐│┌────┬────┬─────┐│\n",
       "││W-SW │O-S│E-SE │││W-NE │O-NW│E-N │││W-N │O-NE│E-NW ││\n",
       "│├─────┼───┼─────┤│├─────┼────┼────┤│├────┼────┼─────┤│\n",
       "││SW-NW│S-N│SE-NE│││SW-E │S-W │SE-O│││SW-O│S-E │SE-W ││\n",
       "│├─────┼───┼─────┤│├─────┼────┼────┤│├────┼────┼─────┤│\n",
       "││NW-W │N-O│NE-E │││NW-SE│N-SW│NE-S│││NW-S│N-SE│NE-SW││\n",
       "│└─────┴───┴─────┘│└─────┴────┴────┘│└────┴────┴─────┘│\n",
       "└─────────────────┴─────────────────┴─────────────────┘\n",
       "</pre>"
      ]
     },
     "execution_count": 10,
     "metadata": {},
     "output_type": "execute_result"
    },
    {
     "data": {
      "text/html": [
       "<pre class=\"language-APL\">┌─────────────────┬─────────────────┬─────────────────┐\n",
       "│┌─────┬────┬────┐│┌─────┬────┬────┐│┌────┬─────┬────┐│\n",
       "││NE-SW│NW-S│N-SE│││NE-W │NW-O│N-E │││NE-N│NW-NE│N-NW││\n",
       "│├─────┼────┼────┤│├─────┼────┼────┤│├────┼─────┼────┤│\n",
       "││E-NW │W-N │O-NE│││E-SW │W-S │O-SE│││E-O │W-E  │O-W ││\n",
       "│├─────┼────┼────┤│├─────┼────┼────┤│├────┼─────┼────┤│\n",
       "││SE-W │SW-O│S-E │││SE-NW│SW-N│S-NE│││SE-S│SW-SE│S-SW││\n",
       "│└─────┴────┴────┘│└─────┴────┴────┘│└────┴─────┴────┘│\n",
       "└─────────────────┴─────────────────┴─────────────────┘\n",
       "</pre>"
      ]
     },
     "execution_count": 10,
     "metadata": {},
     "output_type": "execute_result"
    },
    {
     "data": {
      "text/html": [
       "<pre class=\"language-APL\">┌─────────────────┬─────────────────┬─────────────────┐\n",
       "│┌────┬────┬─────┐│┌────┬────┬─────┐│┌────┬─────┬────┐│\n",
       "││N-SW│NE-S│NW-SE│││N-W │NE-O│NW-E │││N-NE│NE-NW│NW-N││\n",
       "│├────┼────┼─────┤│├────┼────┼─────┤│├────┼─────┼────┤│\n",
       "││O-NW│E-N │W-NE │││O-SW│E-S │W-SE │││O-E │E-W  │W-O ││\n",
       "│├────┼────┼─────┤│├────┼────┼─────┤│├────┼─────┼────┤│\n",
       "││S-W │SE-O│SW-E │││S-NW│SE-N│SW-NE│││S-SE│SE-SW│SW-S││\n",
       "│└────┴────┴─────┘│└────┴────┴─────┘│└────┴─────┴────┘│\n",
       "└─────────────────┴─────────────────┴─────────────────┘\n",
       "</pre>"
      ]
     },
     "execution_count": 10,
     "metadata": {},
     "output_type": "execute_result"
    }
   ],
   "source": [
    "⊢(ns nw ne)←n∘D¨s w e  ⍝ disorientations with north neighbour\n",
    "⊢(sn sw se)←s∘D¨n w e  ⍝ disorientations with south neighbour\n",
    "⊢(wn ws we)←w∘D¨n s e  ⍝ disorientations with west neighbour\n",
    "⊢(en es ew)←e∘D¨n s w  ⍝ disorientations with east neighbour"
   ]
  },
  {
   "cell_type": "markdown",
   "id": "2ccca934",
   "metadata": {},
   "source": [
    "The boundary energy after the transformation into each of the neighbour cells is obtained adding all the corresponding energies:"
   ]
  },
  {
   "cell_type": "code",
   "execution_count": 11,
   "id": "6a7a8486",
   "metadata": {},
   "outputs": [
    {
     "data": {
      "text/html": [
       "<pre class=\"language-APL\">┌────────────────────────┬──────────────────────┬────────────────────────┐\n",
       "│G(SW-W)+G(SW-NE)+G(SW-N)│G(S-O)+G(S-NW)+G(S-NE)│G(SE-E)+G(SE-N)+G(SE-NW)│\n",
       "├────────────────────────┼──────────────────────┼────────────────────────┤\n",
       "│G(NW-SW)+G(NW-E)+G(NW-O)│G(N-S)+G(N-W)+G(N-E)  │G(NE-SE)+G(NE-O)+G(NE-W)│\n",
       "├────────────────────────┼──────────────────────┼────────────────────────┤\n",
       "│G(W-NW)+G(W-SE)+G(W-S)  │G(O-N)+G(O-SW)+G(O-SE)│G(E-NE)+G(E-S)+G(E-SW)  │\n",
       "└────────────────────────┴──────────────────────┴────────────────────────┘\n",
       "</pre>"
      ]
     },
     "execution_count": 11,
     "metadata": {},
     "output_type": "execute_result"
    },
    {
     "data": {
      "text/html": [
       "<pre class=\"language-APL\">┌────────────────────────┬──────────────────────┬────────────────────────┐\n",
       "│G(W-SW)+G(W-NE)+G(W-N)  │G(O-S)+G(O-NW)+G(O-NE)│G(E-SE)+G(E-N)+G(E-NW)  │\n",
       "├────────────────────────┼──────────────────────┼────────────────────────┤\n",
       "│G(SW-NW)+G(SW-E)+G(SW-O)│G(S-N)+G(S-W)+G(S-E)  │G(SE-NE)+G(SE-O)+G(SE-W)│\n",
       "├────────────────────────┼──────────────────────┼────────────────────────┤\n",
       "│G(NW-W)+G(NW-SE)+G(NW-S)│G(N-O)+G(N-SW)+G(N-SE)│G(NE-E)+G(NE-S)+G(NE-SW)│\n",
       "└────────────────────────┴──────────────────────┴────────────────────────┘\n",
       "</pre>"
      ]
     },
     "execution_count": 11,
     "metadata": {},
     "output_type": "execute_result"
    },
    {
     "data": {
      "text/html": [
       "<pre class=\"language-APL\">┌────────────────────────┬────────────────────────┬──────────────────────┐\n",
       "│G(NE-SW)+G(NE-W)+G(NE-N)│G(NW-S)+G(NW-O)+G(NW-NE)│G(N-SE)+G(N-E)+G(N-NW)│\n",
       "├────────────────────────┼────────────────────────┼──────────────────────┤\n",
       "│G(E-NW)+G(E-SW)+G(E-O)  │G(W-N)+G(W-S)+G(W-E)    │G(O-NE)+G(O-SE)+G(O-W)│\n",
       "├────────────────────────┼────────────────────────┼──────────────────────┤\n",
       "│G(SE-W)+G(SE-NW)+G(SE-S)│G(SW-O)+G(SW-N)+G(SW-SE)│G(S-E)+G(S-NE)+G(S-SW)│\n",
       "└────────────────────────┴────────────────────────┴──────────────────────┘\n",
       "</pre>"
      ]
     },
     "execution_count": 11,
     "metadata": {},
     "output_type": "execute_result"
    },
    {
     "data": {
      "text/html": [
       "<pre class=\"language-APL\">┌──────────────────────┬────────────────────────┬────────────────────────┐\n",
       "│G(N-SW)+G(N-W)+G(N-NE)│G(NE-S)+G(NE-O)+G(NE-NW)│G(NW-SE)+G(NW-E)+G(NW-N)│\n",
       "├──────────────────────┼────────────────────────┼────────────────────────┤\n",
       "│G(O-NW)+G(O-SW)+G(O-E)│G(E-N)+G(E-S)+G(E-W)    │G(W-NE)+G(W-SE)+G(W-O)  │\n",
       "├──────────────────────┼────────────────────────┼────────────────────────┤\n",
       "│G(S-W)+G(S-NW)+G(S-SE)│G(SE-O)+G(SE-N)+G(SE-SW)│G(SW-E)+G(SW-NE)+G(SW-S)│\n",
       "└──────────────────────┴────────────────────────┴────────────────────────┘\n",
       "</pre>"
      ]
     },
     "execution_count": 11,
     "metadata": {},
     "output_type": "execute_result"
    }
   ],
   "source": [
    "⊢gn←SUM G¨ns nw ne  ⍝ boundary energy after transforming into north neighbour\n",
    "⊢gs←SUM G¨sn sw se  ⍝ boundary energy after transforming into north neighbour\n",
    "⊢gw←SUM G¨wn ws we  ⍝ boundary energy after transforming into west neighbour\n",
    "⊢ge←SUM G¨en es ew  ⍝ boundary energy after transforming into east neighbour"
   ]
  },
  {
   "cell_type": "markdown",
   "id": "5cebc76d",
   "metadata": {},
   "source": [
    "There will be many situations in which the assumption of a fixed environment could be too strong. It may happen that, when a cell transforms, some of its neighbours will transform too. Most of these situations are difficult or even impossible to predict. However, in the case of having a contiguous boundary along several cells, in which all the boundary cells have exactly the same environment, we can safely assume that the whole boundary will move at the same time.\n",
    "\n",
    "What we need to do is to identify the boundaries of neighbour cells. When a cell is transforming and there is an equal boundary next to it, we can assume that the neighbour cell will transform too. For this, we will need to know the disorientations between first and second order neighbours. Let's see an example.\n",
    "\n",
    "If we have the microstructure `o`, and we are calculating the new boundary energy when transforming `O` into the north cell `N`, we will have to check if the boundaries between `W` and `NW`, or between `E` and `NE`, are grain boundaries equal to the one between `O` and `N`. The condition for the boundary between `W` and `NW`, for example, is that the cell `NW` belongs to the same grain as `N` and that `W` belongs to the same grain as `O`.\n",
    "\n",
    "The first step is to identify the grain boundaries in our microstructure. We will define the function `L` and the variables `lon`, `los`, `low` and `loe` to know which disorientations are lower than the low angle boundary, which we call `l`."
   ]
  },
  {
   "cell_type": "code",
   "execution_count": 12,
   "id": "6fa6a2b2",
   "metadata": {},
   "outputs": [
    {
     "data": {
      "text/html": [
       "<pre class=\"language-APL\">┌───────────────────────┬───────────────────────┬───────────────────────┬───────────────────────┐\n",
       "│┌───────┬─────┬───────┐│┌───────┬─────┬───────┐│┌───────┬──────┬──────┐│┌──────┬──────┬───────┐│\n",
       "││l&gt;NW-SW│l&gt;N-S│l&gt;NE-SE│││l&gt;NW-W │l&gt;N-O│l&gt;NE-E │││l&gt;NW-NE│l&gt;N-NW│l&gt;NE-N│││l&gt;NW-N│l&gt;N-NE│l&gt;NE-NW││\n",
       "│├───────┼─────┼───────┤│├───────┼─────┼───────┤│├───────┼──────┼──────┤│├──────┼──────┼───────┤│\n",
       "││l&gt;W-NW │l&gt;O-N│l&gt;E-NE │││l&gt;W-SW │l&gt;O-S│l&gt;E-SE │││l&gt;W-E  │l&gt;O-W │l&gt;E-O │││l&gt;W-O │l&gt;O-E │l&gt;E-W  ││\n",
       "│├───────┼─────┼───────┤│├───────┼─────┼───────┤│├───────┼──────┼──────┤│├──────┼──────┼───────┤│\n",
       "││l&gt;SW-W │l&gt;S-O│l&gt;SE-E │││l&gt;SW-NW│l&gt;S-N│l&gt;SE-NE│││l&gt;SW-SE│l&gt;S-SW│l&gt;SE-S│││l&gt;SW-S│l&gt;S-SE│l&gt;SE-SW││\n",
       "│└───────┴─────┴───────┘│└───────┴─────┴───────┘│└───────┴──────┴──────┘│└──────┴──────┴───────┘│\n",
       "└───────────────────────┴───────────────────────┴───────────────────────┴───────────────────────┘\n",
       "</pre>"
      ]
     },
     "execution_count": 12,
     "metadata": {},
     "output_type": "execute_result"
    }
   ],
   "source": [
    "L←{'l>',⍵}¨\n",
    "⊢(lon los low loe)←L¨on os ow oe  ⍝ low disorientation angle at north, south, west and east"
   ]
  },
  {
   "cell_type": "markdown",
   "id": "a9357734",
   "metadata": {},
   "source": [
    "For example, if `l>O-W` and `l>N-NW`, that will mean that when we transform `O` into `N`, `W` will transform into `NW`, and therfore the boundary energy at the west face after transformation should be zero. So, our energies after transformation (for the center cell) will be:"
   ]
  },
  {
   "cell_type": "code",
   "execution_count": 13,
   "id": "6459782a",
   "metadata": {},
   "outputs": [
    {
     "data": {
      "text/html": [
       "<pre class=\"language-APL\">G(N-S)+((l&gt;O-W)⍲(l&gt;N-NW))×G(N-W)+((l&gt;O-E)⍲(l&gt;N-NE))×G(N-E)\n",
       "</pre>"
      ]
     },
     "execution_count": 13,
     "metadata": {},
     "output_type": "execute_result"
    },
    {
     "data": {
      "text/html": [
       "<pre class=\"language-APL\">G(S-N)+((l&gt;O-W)⍲(l&gt;S-SW))×G(S-W)+((l&gt;O-E)⍲(l&gt;S-SE))×G(S-E)\n",
       "</pre>"
      ]
     },
     "execution_count": 13,
     "metadata": {},
     "output_type": "execute_result"
    },
    {
     "data": {
      "text/html": [
       "<pre class=\"language-APL\">G(W-E)+((l&gt;O-N)⍲(l&gt;N-S))×G(W-N)+((l&gt;O-S)⍲(l&gt;N-O))×G(W-S)\n",
       "</pre>"
      ]
     },
     "execution_count": 13,
     "metadata": {},
     "output_type": "execute_result"
    },
    {
     "data": {
      "text/html": [
       "<pre class=\"language-APL\">G(E-W)+((l&gt;O-N)⍲(l&gt;N-S))×G(E-N)+((l&gt;O-S)⍲(l&gt;N-O))×G(E-S)\n",
       "</pre>"
      ]
     },
     "execution_count": 13,
     "metadata": {},
     "output_type": "execute_result"
    }
   ],
   "source": [
    "NAND←{'((',⍺,')⍲(',⍵,'))'}¨ ⋄ MUL←{⍺,'×',⍵}¨\n",
    "O gn←SUM(G ns)((⊃0 ¯1 NAND.⊖⊂low)MUL G nw)((⊃0 ¯1 NAND.⊖⊂loe)MUL G ne)  ⍝ north transformation energy\n",
    "O gs←SUM(G sn)((⊃0  1 NAND.⊖⊂low)MUL G sw)((⊃0  1 NAND.⊖⊂loe)MUL G se)  ⍝ north transformation energy\n",
    "O gw←SUM(G we)((⊃0 ¯1 NAND.⊖⊂lon)MUL G wn)((⊃0 ¯1 NAND.⊖⊂los)MUL G ws)  ⍝ west transformation energy\n",
    "O ge←SUM(G ew)((⊃0 ¯1 NAND.⊖⊂lon)MUL G en)((⊃0 ¯1 NAND.⊖⊂los)MUL G es)  ⍝ east transformation energy"
   ]
  },
  {
   "cell_type": "markdown",
   "id": "2785aebc",
   "metadata": {},
   "source": [
    "#### Energy difference\n",
    "\n",
    "The decrease of energy resulting of each transformation is obtained substracting the new energy from the current one:"
   ]
  },
  {
   "cell_type": "code",
   "execution_count": 14,
   "id": "7978d331",
   "metadata": {},
   "outputs": [
    {
     "data": {
      "text/html": [
       "<pre class=\"language-APL\">G(O-N)+G(O-S)+G(O-W)+G(O-E) - (G(N-S)+((l&gt;O-W)⍲(l&gt;N-NW))×G(N-W)+((l&gt;O-E)⍲(l&gt;N-NE))×G(N-E))\n",
       "</pre>"
      ]
     },
     "execution_count": 14,
     "metadata": {},
     "output_type": "execute_result"
    },
    {
     "data": {
      "text/html": [
       "<pre class=\"language-APL\">G(O-N)+G(O-S)+G(O-W)+G(O-E) - (G(S-N)+((l&gt;O-W)⍲(l&gt;S-SW))×G(S-W)+((l&gt;O-E)⍲(l&gt;S-SE))×G(S-E))\n",
       "</pre>"
      ]
     },
     "execution_count": 14,
     "metadata": {},
     "output_type": "execute_result"
    },
    {
     "data": {
      "text/html": [
       "<pre class=\"language-APL\">G(O-N)+G(O-S)+G(O-W)+G(O-E) - (G(W-E)+((l&gt;O-N)⍲(l&gt;N-S))×G(W-N)+((l&gt;O-S)⍲(l&gt;N-O))×G(W-S))\n",
       "</pre>"
      ]
     },
     "execution_count": 14,
     "metadata": {},
     "output_type": "execute_result"
    },
    {
     "data": {
      "text/html": [
       "<pre class=\"language-APL\">G(O-N)+G(O-S)+G(O-W)+G(O-E) - (G(E-W)+((l&gt;O-N)⍲(l&gt;N-S))×G(E-N)+((l&gt;O-S)⍲(l&gt;N-O))×G(E-S))\n",
       "</pre>"
      ]
     },
     "execution_count": 14,
     "metadata": {},
     "output_type": "execute_result"
    }
   ],
   "source": [
    "SUB←{⍺,' - (',⍵,')'}¨\n",
    "O ∆gn←go SUB gn  ⍝ increment of energy when transforming into north neighbour\n",
    "O ∆gs←go SUB gs  ⍝ increment of energy when transforming into south neighbour\n",
    "O ∆gw←go SUB gw  ⍝ increment of energy when transforming into west neighbour\n",
    "O ∆ge←go SUB ge  ⍝ increment of energy when transforming into east neighbour"
   ]
  },
  {
   "cell_type": "markdown",
   "id": "5ff0305b",
   "metadata": {},
   "source": [
    "#### Force magnitude\n",
    "\n",
    "From this energy difference, we can find the pressure that will be exerted on the face dividing by the cell volume. The force can be obtained multiplying this pressure by the area. In case only one neighbour cell is transforming, the value of the force is simply obtained multiplying the pressure by the area of a cell face. However, when more than one cell transforms, which will be the case whenever other neighbour cells share orientation with the parent cell, we will have to take into account the force at all transforming faces.\n",
    "\n",
    "In 2D, the number of possible cases is small. For example, let's assume cell `N` is the parent cell into which the cell `O` will transform. These are the possibilities:\n",
    "\n",
    "1. All other neighbours are different to `N`. Pressure only on `N` face\n",
    "2. Neighbours `N` and `E` or `W` are the same. Pressure on two perpendicular faces\n",
    "3. Neighbours `N` and `S` are the same. Pressure on two opposite faces\n",
    "4. Neighbours `N` and `S` and `W` or `E` are the same. Pressure on two opposite faces and a perpendicular face\n",
    "5. Neighbours `N`, `W` and `E` are the same. Pressure on two opposite faces and a perpendicular face\n",
    "6. All neighbours are the same. Pressure on the four faces\n",
    "\n",
    "The force at each face will be the result of multiplying the pressure by the face area. The total force will be obtained adding the contribution of all the faces."
   ]
  },
  {
   "cell_type": "code",
   "execution_count": 15,
   "id": "0a360200",
   "metadata": {},
   "outputs": [
    {
     "data": {
      "text/html": [
       "<pre class=\"language-APL\">1\n",
       "</pre>"
      ]
     },
     "execution_count": 15,
     "metadata": {},
     "output_type": "execute_result"
    },
    {
     "data": {
      "text/html": [
       "<pre class=\"language-APL\">1.414213562\n",
       "</pre>"
      ]
     },
     "execution_count": 15,
     "metadata": {},
     "output_type": "execute_result"
    },
    {
     "data": {
      "text/html": [
       "<pre class=\"language-APL\">2\n",
       "</pre>"
      ]
     },
     "execution_count": 15,
     "metadata": {},
     "output_type": "execute_result"
    },
    {
     "data": {
      "text/html": [
       "<pre class=\"language-APL\">2.236067977\n",
       "</pre>"
      ]
     },
     "execution_count": 15,
     "metadata": {},
     "output_type": "execute_result"
    },
    {
     "data": {
      "text/html": [
       "<pre class=\"language-APL\">2.236067977\n",
       "</pre>"
      ]
     },
     "execution_count": 15,
     "metadata": {},
     "output_type": "execute_result"
    },
    {
     "data": {
      "text/html": [
       "<pre class=\"language-APL\">2.828427125\n",
       "</pre>"
      ]
     },
     "execution_count": 15,
     "metadata": {},
     "output_type": "execute_result"
    }
   ],
   "source": [
    "⊢k1←(÷2)*⍨+.×⍨1\n",
    "⊢k2←(÷2)*⍨+.×⍨1 1\n",
    "⊢k3←(÷2)*⍨+.×⍨2 \n",
    "⊢k4←(÷2)*⍨+.×⍨2 1\n",
    "⊢k5←(÷2)*⍨+.×⍨1 2\n",
    "⊢k6←(÷2)*⍨+.×⍨2 2"
   ]
  },
  {
   "cell_type": "markdown",
   "id": "3a0c2449",
   "metadata": {},
   "source": [
    "These values can be represented in a table where the rows and column indicate the number of transforming faces in horizontal and vertical directions."
   ]
  },
  {
   "cell_type": "code",
   "execution_count": 16,
   "id": "588f0d84",
   "metadata": {},
   "outputs": [
    {
     "data": {
      "text/html": [
       "<pre class=\"language-APL\">0 1           2\n",
       "1 1.414213562 2.236067977\n",
       "2 2.236067977 2.828427125\n",
       "</pre>"
      ]
     },
     "execution_count": 16,
     "metadata": {},
     "output_type": "execute_result"
    }
   ],
   "source": [
    "⊢k←(÷2)*⍨∘.+⍨2*⍨⍳3"
   ]
  },
  {
   "cell_type": "markdown",
   "id": "9dde7d56",
   "metadata": {},
   "source": [
    "And we can also define a `K` function to reach values from this table:"
   ]
  },
  {
   "cell_type": "code",
   "execution_count": 17,
   "id": "7aa48c99",
   "metadata": {},
   "outputs": [],
   "source": [
    "K←(,k)⌷⍨∘⊂⊢+3×⊣"
   ]
  },
  {
   "cell_type": "markdown",
   "id": "4ebc23d6",
   "metadata": {},
   "source": [
    "To find which neighbours have different orientations, we can use our `L` function again."
   ]
  },
  {
   "cell_type": "code",
   "execution_count": 18,
   "id": "dd40106c",
   "metadata": {},
   "outputs": [
    {
     "data": {
      "text/html": [
       "<pre class=\"language-APL\">┌───────────────────────┬───────────────────────┬───────────────────────┐\n",
       "│┌───────┬─────┬───────┐│┌───────┬──────┬──────┐│┌──────┬──────┬───────┐│\n",
       "││l&gt;SW-W │l&gt;S-O│l&gt;SE-E │││l&gt;SW-NE│l&gt;S-NW│l&gt;SE-N│││l&gt;SW-N│l&gt;S-NE│l&gt;SE-NW││\n",
       "│├───────┼─────┼───────┤│├───────┼──────┼──────┤│├──────┼──────┼───────┤│\n",
       "││l&gt;NW-SW│l&gt;N-S│l&gt;NE-SE│││l&gt;NW-E │l&gt;N-W │l&gt;NE-O│││l&gt;NW-O│l&gt;N-E │l&gt;NE-W ││\n",
       "│├───────┼─────┼───────┤│├───────┼──────┼──────┤│├──────┼──────┼───────┤│\n",
       "││l&gt;W-NW │l&gt;O-N│l&gt;E-NE │││l&gt;W-SE │l&gt;O-SW│l&gt;E-S │││l&gt;W-S │l&gt;O-SE│l&gt;E-SW ││\n",
       "│└───────┴─────┴───────┘│└───────┴──────┴──────┘│└──────┴──────┴───────┘│\n",
       "└───────────────────────┴───────────────────────┴───────────────────────┘\n",
       "</pre>"
      ]
     },
     "execution_count": 18,
     "metadata": {},
     "output_type": "execute_result"
    },
    {
     "data": {
      "text/html": [
       "<pre class=\"language-APL\">┌───────────────────────┬───────────────────────┬───────────────────────┐\n",
       "│┌───────┬─────┬───────┐│┌───────┬──────┬──────┐│┌──────┬──────┬───────┐│\n",
       "││l&gt;W-SW │l&gt;O-S│l&gt;E-SE │││l&gt;W-NE │l&gt;O-NW│l&gt;E-N │││l&gt;W-N │l&gt;O-NE│l&gt;E-NW ││\n",
       "│├───────┼─────┼───────┤│├───────┼──────┼──────┤│├──────┼──────┼───────┤│\n",
       "││l&gt;SW-NW│l&gt;S-N│l&gt;SE-NE│││l&gt;SW-E │l&gt;S-W │l&gt;SE-O│││l&gt;SW-O│l&gt;S-E │l&gt;SE-W ││\n",
       "│├───────┼─────┼───────┤│├───────┼──────┼──────┤│├──────┼──────┼───────┤│\n",
       "││l&gt;NW-W │l&gt;N-O│l&gt;NE-E │││l&gt;NW-SE│l&gt;N-SW│l&gt;NE-S│││l&gt;NW-S│l&gt;N-SE│l&gt;NE-SW││\n",
       "│└───────┴─────┴───────┘│└───────┴──────┴──────┘│└──────┴──────┴───────┘│\n",
       "└───────────────────────┴───────────────────────┴───────────────────────┘\n",
       "</pre>"
      ]
     },
     "execution_count": 18,
     "metadata": {},
     "output_type": "execute_result"
    },
    {
     "data": {
      "text/html": [
       "<pre class=\"language-APL\">┌───────────────────────┬───────────────────────┬───────────────────────┐\n",
       "│┌───────┬──────┬──────┐│┌───────┬──────┬──────┐│┌──────┬───────┬──────┐│\n",
       "││l&gt;NE-SW│l&gt;NW-S│l&gt;N-SE│││l&gt;NE-W │l&gt;NW-O│l&gt;N-E │││l&gt;NE-N│l&gt;NW-NE│l&gt;N-NW││\n",
       "│├───────┼──────┼──────┤│├───────┼──────┼──────┤│├──────┼───────┼──────┤│\n",
       "││l&gt;E-NW │l&gt;W-N │l&gt;O-NE│││l&gt;E-SW │l&gt;W-S │l&gt;O-SE│││l&gt;E-O │l&gt;W-E  │l&gt;O-W ││\n",
       "│├───────┼──────┼──────┤│├───────┼──────┼──────┤│├──────┼───────┼──────┤│\n",
       "││l&gt;SE-W │l&gt;SW-O│l&gt;S-E │││l&gt;SE-NW│l&gt;SW-N│l&gt;S-NE│││l&gt;SE-S│l&gt;SW-SE│l&gt;S-SW││\n",
       "│└───────┴──────┴──────┘│└───────┴──────┴──────┘│└──────┴───────┴──────┘│\n",
       "└───────────────────────┴───────────────────────┴───────────────────────┘\n",
       "</pre>"
      ]
     },
     "execution_count": 18,
     "metadata": {},
     "output_type": "execute_result"
    },
    {
     "data": {
      "text/html": [
       "<pre class=\"language-APL\">┌───────────────────────┬───────────────────────┬───────────────────────┐\n",
       "│┌──────┬──────┬───────┐│┌──────┬──────┬───────┐│┌──────┬───────┬──────┐│\n",
       "││l&gt;N-SW│l&gt;NE-S│l&gt;NW-SE│││l&gt;N-W │l&gt;NE-O│l&gt;NW-E │││l&gt;N-NE│l&gt;NE-NW│l&gt;NW-N││\n",
       "│├──────┼──────┼───────┤│├──────┼──────┼───────┤│├──────┼───────┼──────┤│\n",
       "││l&gt;O-NW│l&gt;E-N │l&gt;W-NE │││l&gt;O-SW│l&gt;E-S │l&gt;W-SE │││l&gt;O-E │l&gt;E-W  │l&gt;W-O ││\n",
       "│├──────┼──────┼───────┤│├──────┼──────┼───────┤│├──────┼───────┼──────┤│\n",
       "││l&gt;S-W │l&gt;SE-O│l&gt;SW-E │││l&gt;S-NW│l&gt;SE-N│l&gt;SW-NE│││l&gt;S-SE│l&gt;SE-SW│l&gt;SW-S││\n",
       "│└──────┴──────┴───────┘│└──────┴──────┴───────┘│└──────┴───────┴──────┘│\n",
       "└───────────────────────┴───────────────────────┴───────────────────────┘\n",
       "</pre>"
      ]
     },
     "execution_count": 18,
     "metadata": {},
     "output_type": "execute_result"
    }
   ],
   "source": [
    "⊢(lns lnw lne)←L¨ns nw ne\n",
    "⊢(lsn lsw lse)←L¨sn sw se\n",
    "⊢(lwn lws lwe)←L¨wn ws we\n",
    "⊢(len les lew)←L¨en es ew"
   ]
  },
  {
   "cell_type": "markdown",
   "id": "bcc44a8c",
   "metadata": {},
   "source": [
    "And the value of the constant that must multiply the change of energy is calculated as:"
   ]
  },
  {
   "cell_type": "code",
   "execution_count": 19,
   "id": "828931dd",
   "metadata": {},
   "outputs": [
    {
     "data": {
      "text/html": [
       "<pre class=\"language-APL\">┌────────────────────────────────┬──────────────────────────────┬────────────────────────────────┐\n",
       "│K(1+(l&gt;SW-W),(l&gt;SW-NE)+(l&gt;SW-N))│K(1+(l&gt;S-O),(l&gt;S-NW)+(l&gt;S-NE))│K(1+(l&gt;SE-E),(l&gt;SE-N)+(l&gt;SE-NW))│\n",
       "├────────────────────────────────┼──────────────────────────────┼────────────────────────────────┤\n",
       "│K(1+(l&gt;NW-SW),(l&gt;NW-E)+(l&gt;NW-O))│K(1+(l&gt;N-S),(l&gt;N-W)+(l&gt;N-E))  │K(1+(l&gt;NE-SE),(l&gt;NE-O)+(l&gt;NE-W))│\n",
       "├────────────────────────────────┼──────────────────────────────┼────────────────────────────────┤\n",
       "│K(1+(l&gt;W-NW),(l&gt;W-SE)+(l&gt;W-S))  │K(1+(l&gt;O-N),(l&gt;O-SW)+(l&gt;O-SE))│K(1+(l&gt;E-NE),(l&gt;E-S)+(l&gt;E-SW))  │\n",
       "└────────────────────────────────┴──────────────────────────────┴────────────────────────────────┘\n",
       "</pre>"
      ]
     },
     "execution_count": 19,
     "metadata": {},
     "output_type": "execute_result"
    },
    {
     "data": {
      "text/html": [
       "<pre class=\"language-APL\">┌────────────────────────────────┬──────────────────────────────┬────────────────────────────────┐\n",
       "│K(1+(l&gt;W-SW),(l&gt;W-NE)+(l&gt;W-N))  │K(1+(l&gt;O-S),(l&gt;O-NW)+(l&gt;O-NE))│K(1+(l&gt;E-SE),(l&gt;E-N)+(l&gt;E-NW))  │\n",
       "├────────────────────────────────┼──────────────────────────────┼────────────────────────────────┤\n",
       "│K(1+(l&gt;SW-NW),(l&gt;SW-E)+(l&gt;SW-O))│K(1+(l&gt;S-N),(l&gt;S-W)+(l&gt;S-E))  │K(1+(l&gt;SE-NE),(l&gt;SE-O)+(l&gt;SE-W))│\n",
       "├────────────────────────────────┼──────────────────────────────┼────────────────────────────────┤\n",
       "│K(1+(l&gt;NW-W),(l&gt;NW-SE)+(l&gt;NW-S))│K(1+(l&gt;N-O),(l&gt;N-SW)+(l&gt;N-SE))│K(1+(l&gt;NE-E),(l&gt;NE-S)+(l&gt;NE-SW))│\n",
       "└────────────────────────────────┴──────────────────────────────┴────────────────────────────────┘\n",
       "</pre>"
      ]
     },
     "execution_count": 19,
     "metadata": {},
     "output_type": "execute_result"
    },
    {
     "data": {
      "text/html": [
       "<pre class=\"language-APL\">┌────────────────────────────────┬────────────────────────────────┬──────────────────────────────┐\n",
       "│K(1+(l&gt;NE-N),(l&gt;NE-SW)+(l&gt;NE-W))│K(1+(l&gt;NW-NE),(l&gt;NW-S)+(l&gt;NW-O))│K(1+(l&gt;N-NW),(l&gt;N-SE)+(l&gt;N-E))│\n",
       "├────────────────────────────────┼────────────────────────────────┼──────────────────────────────┤\n",
       "│K(1+(l&gt;E-O),(l&gt;E-NW)+(l&gt;E-SW))  │K(1+(l&gt;W-E),(l&gt;W-N)+(l&gt;W-S))    │K(1+(l&gt;O-W),(l&gt;O-NE)+(l&gt;O-SE))│\n",
       "├────────────────────────────────┼────────────────────────────────┼──────────────────────────────┤\n",
       "│K(1+(l&gt;SE-S),(l&gt;SE-W)+(l&gt;SE-NW))│K(1+(l&gt;SW-SE),(l&gt;SW-O)+(l&gt;SW-N))│K(1+(l&gt;S-SW),(l&gt;S-E)+(l&gt;S-NE))│\n",
       "└────────────────────────────────┴────────────────────────────────┴──────────────────────────────┘\n",
       "</pre>"
      ]
     },
     "execution_count": 19,
     "metadata": {},
     "output_type": "execute_result"
    },
    {
     "data": {
      "text/html": [
       "<pre class=\"language-APL\">┌──────────────────────────────┬────────────────────────────────┬────────────────────────────────┐\n",
       "│K(1+(l&gt;N-NE),(l&gt;N-SW)+(l&gt;N-W))│K(1+(l&gt;NE-NW),(l&gt;NE-S)+(l&gt;NE-O))│K(1+(l&gt;NW-N),(l&gt;NW-SE)+(l&gt;NW-E))│\n",
       "├──────────────────────────────┼────────────────────────────────┼────────────────────────────────┤\n",
       "│K(1+(l&gt;O-E),(l&gt;O-NW)+(l&gt;O-SW))│K(1+(l&gt;E-W),(l&gt;E-N)+(l&gt;E-S))    │K(1+(l&gt;W-O),(l&gt;W-NE)+(l&gt;W-SE))  │\n",
       "├──────────────────────────────┼────────────────────────────────┼────────────────────────────────┤\n",
       "│K(1+(l&gt;S-SE),(l&gt;S-W)+(l&gt;S-NW))│K(1+(l&gt;SE-SW),(l&gt;SE-O)+(l&gt;SE-N))│K(1+(l&gt;SW-S),(l&gt;SW-E)+(l&gt;SW-NE))│\n",
       "└──────────────────────────────┴────────────────────────────────┴────────────────────────────────┘\n",
       "</pre>"
      ]
     },
     "execution_count": 19,
     "metadata": {},
     "output_type": "execute_result"
    }
   ],
   "source": [
    "KK←{⍺{'K(1+(',⍺,'),',⍵,')'}¨⊃{'(',⍺,')+(',⍵,')'}¨/⍵}\n",
    "⊢kon←lns KK lnw lne  ⍝ force factor when transforming into north cell\n",
    "⊢kos←lsn KK lsw lse  ⍝ force factor when transforming into south cell\n",
    "⊢kow←lwe KK lwn lws  ⍝ force factor when transforming into west cell\n",
    "⊢koe←lew KK len les  ⍝ force factor when transforming into east cell"
   ]
  },
  {
   "cell_type": "markdown",
   "id": "b66ea121",
   "metadata": {},
   "source": [
    "#### Transformation rate\n",
    "\n",
    "Now we can find the transformation rates. The energy difference resulting from the transformation must be equal to the work that the force performs, which can be obtained multiplying the force by the velocity and time. The ratio will be the inverse of the time.\n",
    "\n",
    "The energy difference `gon` has already been calculated. The force is obtained multiplying this energy difference by the constant `kon`, dividing by the volume and multiplying by the face area. The velocity can be obtained multiplying the boundary mobility by the pressure (`mon×gon÷V`). Therefore:"
   ]
  },
  {
   "cell_type": "code",
   "execution_count": 20,
   "id": "c3ddfadb",
   "metadata": {},
   "outputs": [
    {
     "data": {
      "text/html": [
       "<pre class=\"language-APL\">A÷(V×V)×M(T,O-N)×K(1+(l&gt;N-S),(l&gt;N-W)+(l&gt;N-E))×(G(O-N))\n",
       "</pre>"
      ]
     },
     "execution_count": 20,
     "metadata": {},
     "output_type": "execute_result"
    },
    {
     "data": {
      "text/html": [
       "<pre class=\"language-APL\">A÷(V×V)×M(T,O-S)×K(1+(l&gt;S-N),(l&gt;S-W)+(l&gt;S-E))×(G(O-S))\n",
       "</pre>"
      ]
     },
     "execution_count": 20,
     "metadata": {},
     "output_type": "execute_result"
    },
    {
     "data": {
      "text/html": [
       "<pre class=\"language-APL\">A÷(V×V)×M(T,O-W)×K(1+(l&gt;W-E),(l&gt;W-N)+(l&gt;W-S))×(G(O-W))\n",
       "</pre>"
      ]
     },
     "execution_count": 20,
     "metadata": {},
     "output_type": "execute_result"
    },
    {
     "data": {
      "text/html": [
       "<pre class=\"language-APL\">A÷(V×V)×M(T,O-E)×K(1+(l&gt;E-W),(l&gt;E-N)+(l&gt;E-S))×(G(O-E))\n",
       "</pre>"
      ]
     },
     "execution_count": 20,
     "metadata": {},
     "output_type": "execute_result"
    }
   ],
   "source": [
    "O rn←(⊂'A÷(V×V)') MUL mon MUL kon MUL{'(',⍵,')'}¨gon  ⍝ rate of transformation into north cell\n",
    "O rs←(⊂'A÷(V×V)') MUL mos MUL kos MUL{'(',⍵,')'}¨gos  ⍝ rate of transformation into south cell\n",
    "O rw←(⊂'A÷(V×V)') MUL mow MUL kow MUL{'(',⍵,')'}¨gow  ⍝ rate of transformation into west cell\n",
    "O re←(⊂'A÷(V×V)') MUL moe MUL koe MUL{'(',⍵,')'}¨goe  ⍝ rate of transformation into east cell"
   ]
  },
  {
   "cell_type": "markdown",
   "id": "309d175e",
   "metadata": {},
   "source": [
    "#### High energy cells\n",
    "\n",
    "It will be assumed that multiple points, where more than two grains meet, are high-energy regions in which the transformation will take place faster. If a cell has grain boundaries with more than one different grains, it will be considered a multiple point and we will multiply the obtained transformation rate by a factor. The value of this factor will depend on the cell being a triple or a quadruple point (for simplicity, quintuple points, where each face is a grain boundary with respect to a different grain, will also be considered quadruple points).\n",
    "\n",
    "To find the number of grain boundaries, we will use our `l..` variables."
   ]
  },
  {
   "cell_type": "code",
   "execution_count": 21,
   "id": "f339d8fd",
   "metadata": {
    "scrolled": true
   },
   "outputs": [
    {
     "data": {
      "text/html": [
       "<pre class=\"language-APL\">4 - (l&gt;O-N+((l&gt;N-W)∧(l&gt;O-W))+((l&gt;S-W)∧(l&gt;S-O))+((l&gt;S-E)∧(l&gt;N-E)∧(l&gt;E-O)))\n",
       "</pre>"
      ]
     },
     "execution_count": 21,
     "metadata": {},
     "output_type": "execute_result"
    }
   ],
   "source": [
    "AND←{'((',⍺,')∧(',⍵,'))'}¨\n",
    "O nb←'4'SUB SUM lon(lnw AND low)(lsw AND 1⊖lon)(lse AND ¯2↓¨2↓¨lne AND 1⌽low)"
   ]
  },
  {
   "cell_type": "markdown",
   "id": "731f7239",
   "metadata": {},
   "source": [
    "We just need to use this number to index into a list with the corresponding factors:"
   ]
  },
  {
   "cell_type": "code",
   "execution_count": 22,
   "id": "b74c17cd",
   "metadata": {},
   "outputs": [
    {
     "data": {
      "text/html": [
       "<pre class=\"language-APL\">f[3⌊(4 - (l&gt;O-N+((l&gt;N-W)∧(l&gt;O-W))+((l&gt;S-W)∧(l&gt;S-O))+((l&gt;S-E)∧(l&gt;N-E)∧(l&gt;E-O))))]\n",
       "</pre>"
      ]
     },
     "execution_count": 22,
     "metadata": {},
     "output_type": "execute_result"
    }
   ],
   "source": [
    "F←{'f[3⌊(',⍵,')]'}¨\n",
    "O fb←F nb"
   ]
  },
  {
   "cell_type": "markdown",
   "id": "54e2a74e",
   "metadata": {},
   "source": [
    "The transformation rates will be obtained multiplying these factors by the values previously calculated (`fb×rn`, `fb×rs`, etc).\n",
    "\n",
    "#### Reduction of the number of operations\n",
    "\n",
    "Notice that there are a number of operations that we are performing several times.\n",
    "\n",
    "To begin with, the calculation of misorientation angles is a commutative operation. If, for example, we have calculated the disorientation `N-W`, we know that the disorientation `W-N` will be the same. The same thing happens with boundary energies. So, instead of calculating `G(W-N)`, for example, we can directly use the value calculated for `G(N-W)`.\n",
    "\n",
    "Moreover, we are repeating ourselves when we perform calculations of misorientation angles and energies at opposite faces. For example, if we have calculated the disorientations `on` (with the disorientation `O-N` in the central cell), and the corresponding boundary energies `gn` (with value `G(O-N)` at the center), the energy `gs` could be obtained simply rotating `gn` with `1⊖gn` (so that the value of the central cell will be the value previously at the south, `G(S-O)`, which is equal to `G(O-S)`).\n",
    "\n",
    "The same reasoning applies to boundary mobilities and low angle boundaries, which depend on disorientations too.\n",
    "\n",
    "In summary, we can significantly reduce the number of operations. These are all the magnitudes that we need to calculate and cannot be obtained just rotating other arrays:\n",
    "\n",
    "- Disorientations: `on` `ow` `nw` `sw` `ns` `we`\n",
    "- Boundary energies: `gon` `gow` `gnw` `gsw` `gns` `gwe`\n",
    "- Low angle boundaries: `lon` `low` `lnw` `lsw` `lns` `lwe`\n",
    "- Mobilities: `mon` `mow`\n",
    "\n",
    "#### Non-valid points\n",
    "\n",
    "In general, the model will use experimental data as input. In experimental EBSD measurements, it is common to find points for which the orientation measurement is not reliable. This is usually indicated by low confidence index or image quality values. Sometimes, the non valid points are assigned to a different phase.\n",
    "\n",
    "The way to handle these points during the simulations will be to consider that they are highly deformed regions, and therefore their initial energy is high. So, we will assume that their initial boundary energy is as high as possible (`4×gh`, where `gh` is the energy at high angle grain boundaries).\n",
    "\n",
    "We will also consider that the transformation rate into a non-valid cell is always zero.\n",
    "\n",
    "## Iterative method\n",
    "\n",
    "The model keeps, in addition to the current microstructure, a list of arrays with the accumulated transformation fractions for each of the neighbours. Every time step, new transformation rates are calculated and the transformation fractions are updated. When a transformation fraction reaches the value 1, the cell is transformed into that neighbour.\n",
    "\n",
    "### Time increment\n",
    "\n",
    "Each step, the time increment is calculated such that at least one cell is transformed. However, the user may specify a larger minimum time step. The reason is that, otherwise, the required number of steps could be too high. In practice, there will be many cells that will transform approximately at the same time. We can transform all of them in a single time step just with a longer increment, at the expense of some accuracy.\n",
    "\n",
    "To find the minimum time increment needed to transform at least one cell, we will need to divide the remaining transformation fractions by the transformation rates and find the minimum value.\n",
    "\n",
    "### Transformation\n",
    "\n",
    "Now, we are ready to transform our cells. When the cell transformation fraction into one of its neighbours reaches a value of 1 (or higher), that cell will get the orientation of the neighbour. Moreover, all its transformation fractions are set to zero. This means that the transformation fraction of the cell into its neighbours becomes zero, but also the transformation fraction of the neighbours into the transformed cell.\n",
    "\n",
    "#### Cell swapping\n",
    "\n",
    "There will be situations during the simulation in which two neighbour cells would have to be transformed at the same time into each other. We can slightly randomise the transformation rates applying a small random perturbation, so that there will be more variation in the precise instant in which cells transform. However, this will have no effect if we also use a minimum time step parameter, particularly if this parameter is relatively large with respect to our randomization factor.\n",
    "\n",
    "In real materials, cell swapping does not make sense. A region of material might reorient to get closer to a neighbour, but then that neighbour will not transform. Such a succese would require some kind of \"jump\" of the boundaries that would need much more energy than as predicted by the model.\n",
    "\n",
    "In order to avoid cell-swapping in our simulations, we will add an additional check. Before transforming a cell, we will check if any of its neighbours is transforming into it at the same step. If this is the case, the cell is transformed only if its transformation fraction into the neighbour is higher than the transformation fraction of the neighbour.\n",
    "\n",
    "### Output\n",
    "\n",
    "During each time step, we will also generate some output. The evolution of average grain diameter with respect to time is written to a text file. It is also possible to write the microstructure to a file at regular time intervals.\n",
    "\n",
    "## Model input data\n",
    "\n",
    "The model needs an initial microstructure and a set of material and simulation parameters. All parameters are read from a [`json5`](https://json5.org/) file.\n",
    "\n",
    "In this file, we also specify what is the input data. We can choose between solving an ideal single circular grain problem, start with a random microstructure in which each cell has a random orientation, or read data from an `ang` (EBSD) file.\n",
    "\n",
    "Either if we are using EBSD data or we choose as initial state the circle or the random microstructure problem, we will need the microstructure array with the orientation indices, and the misorientation namespace that works with those indices.\n",
    "\n",
    "### Circle problem\n",
    "\n",
    "The simplest problem that can be solved by the model is a problem in which there are only two grains: a circular grain is embedded inside another grain, which fills the rest of the grid. The user specifies the radious of the grain (in cells) and the grid is defined such that there is at least one cell at every side of the circular grain. Orientations are defined such that the misorientation between both grains is as large as possible (which, for cubic symmetry, is 63.8 degrees along the `1 1 1` direction)."
   ]
  },
  {
   "cell_type": "code",
   "execution_count": 23,
   "id": "c4a12608",
   "metadata": {},
   "outputs": [],
   "source": [
    "C←{Euler.(M↓⍉↑(⊃,/1(1 1 1÷3*÷2)×2 1○360÷⍨○63.8)(4⍴0))((⍵*2)>(+.×⍨)¨(⍳2⍴s)+0.5(⊣-⊣×⊢)s←2+⌈2×⍵)}"
   ]
  },
  {
   "cell_type": "markdown",
   "id": "e2ed2757",
   "metadata": {},
   "source": [
    "### Random microstructure\n",
    "\n",
    "To generate ransom microstructures we will need two or three parameters. Two of them are to specify the size of the grid and the third optional parameter specifies the number of distinct orientations. If this third value is not specified, the total number of cells is used.\n",
    "\n",
    "When we generate a random microstructure, it is not enough to randomly generate Euler angles or quaternions. What we want are uniformly distributed orientations. When using quaternons, orientations are inside the four-dimensional sphere of radious 1. What we will do is to first generate a random latitude and then apply two random rotations."
   ]
  },
  {
   "cell_type": "code",
   "execution_count": 24,
   "id": "815eaed4",
   "metadata": {},
   "outputs": [],
   "source": [
    " R←{(x y n)←(⊢,×/)⍣(2=≢⍵)⊢⍵ ⋄ (Euler.{F←{(1 2○⊂2×○?⍺⍴0)×⊂⍵*÷2} ⋄ M UV⍵(F∘(1∘-),F)?⍵⍴0}n)(?x y⍴n)}"
   ]
  },
  {
   "cell_type": "markdown",
   "id": "0915024f",
   "metadata": {},
   "source": [
    "### EBSD (ang) files\n",
    "\n",
    "To read and write ang files and perform other operations with EBSD data, the `EBSD` namespace is defined. Inside this namespace, we define `Read` and `Write` functions to read and write files, and also a `Crop` function to select only a region of the EBSD data. The `Orientations` function will return the unique orientations, after optionally applying some rounding, and the microstructure (the array with the orientation indices). The functions `IQ` and `CI` just return the *confidence index* and *image quality* columns from the data."
   ]
  },
  {
   "cell_type": "code",
   "execution_count": 25,
   "id": "7bd4d801",
   "metadata": {},
   "outputs": [],
   "source": [
    ":Namespace EBSD                                                      ⍝ Read and write ang files\n",
    "\n",
    "    Read←{                                                           ⍝ read ang file\n",
    "        (h l)←((2-'#'=⊃¨)⊆⊢)⊃⎕NGET⍵1                                 ⍝   get (hash) comments and data\n",
    "        h,⍥⊂⎕CSV⍠2⊢('(^\\s+)|(\\s+$)' '\\s+'⎕R'' ','⊢l)'N'2 0           ⍝   format data and read as csv\n",
    "    }\n",
    "    Crop←{x y←⍺ ⋄ s←((x>4∘⊃)∧y>3∘⊃)⍵ ⋄ s∘/¨⍵}                        ⍝ crop to given size\n",
    "    Write←{⍵⊣⍵1⎕NPUT⍨{⍺,⍵⎕CSV⍠2⍠'Separator' ' '⊢'' 'N'}/⍺}           ⍝ write comments and data to ang file\n",
    "    Orientations←{                                                   ⍝ get orientations\n",
    "        ⍺←0 ⋄ nx←⌊0.5+1+(⌈/x)÷⌈/|2-/x←4⊃⍵ ⋄ ny←⌊0.5+(≢x)÷nx          ⍝   find size\n",
    "        g←∪ea←(a←○⍺÷180)(⌊0.5+÷⍨)⍣(⍺>0)↓⍉↑3↑⍵                        ⍝   unique euler angles\n",
    "        (a×⍣(⍺>0)⊢g)(nx ny⍴g⍳ea)                                     ⍝   return angles and indices\n",
    "    }\n",
    "    IQ←5∘⊃ ⋄ CI←6∘⊃                                                  ⍝ image quality and confidence index\n",
    ":EndNamespace"
   ]
  },
  {
   "cell_type": "markdown",
   "id": "36c59068",
   "metadata": {},
   "source": [
    "## Orientations and disorientations\n",
    "\n",
    "Orientations are used in the model to calculate disorientations between cells. Since the microstructure is composed by grains which are usually larger than the typical cell size, with boundaries extending along several cells, it will be common to have several cells for which the same misorientations must be calculated.\n",
    "\n",
    "Storing 3D orientations and calculating misorientations between them are relatively expensive operations, which take time and memory. For example, a quaternion is represented by four real numbers (although the use of unitary quaternions allows to optionally store only three and calculate the fourth one). Calculating a disorientation under cubic symmetry will require to calculate 24 different disorientations and choose the minimum one. That means that, in the computer, we will need to store 100 floating point numbers and perform 24 quaternion dot products, just to calculate a disorientation.\n",
    "\n",
    "If we want to calculate millions of disorientations every step, we will need a strategy to minimize the memory and the number of calculations needed to find (often repeated) disorientations.\n",
    "\n",
    "### Orientation index\n",
    "\n",
    "All different orientations present in the microstructure will be stored in a list. Let's call this list `g`. The orientation of each cell is then represented as a simple integer which corresponds to the index of the orientation of the cell in the list `g`.\n",
    "\n",
    "We will typically use EBSD data as input. It must be taken into account that the precission of EBSD experiments is limited. Orientations are calculated by the microscope software with certain error. Moreover, we want to minimise the number of unique orientations in the problem, to reduce both the memory requirements to store orientations and disorientations, and the number of calculations, and therefore the total running time.\n",
    "\n",
    "In order to limit the number of unique orientations in the problem, the orientations, represented as triplets of Euler angles in EBSD files, will first be approximated to the closest angle with the chosen precission. Typical values will be 5 degrees for approximate (but fast) solutions, 2.5 degrees for most problems, and 1 degree to obtain higher precission results (at the expense of longer running time and memory requirements).\n",
    "\n",
    "The function `GQ` takes as right argument an array where each element is a triplet of Euler angles (in radians). The orientation values are rounded with the precission given as left argument (in degrees), and the list of unique orientations (in radians) and indices array are returned."
   ]
  },
  {
   "cell_type": "code",
   "execution_count": 26,
   "id": "335c7d09",
   "metadata": {},
   "outputs": [],
   "source": [
    "]dinput\n",
    "GQ←{\n",
    "    ⍺←0                                ⍝ default: not rounding\n",
    "    u←∪g←(a←○⍺÷180)(⌊0.5+÷⍨)⍣(⍺>0)⊢,⍵  ⍝ unique orientations\n",
    "    (a×⍣(⍺>0)⊢u)((⍴⍵)⍴u⍳g)             ⍝ orientations and indices\n",
    "}"
   ]
  },
  {
   "cell_type": "markdown",
   "id": "2b83eef6",
   "metadata": {},
   "source": [
    "For example, if these is our input:"
   ]
  },
  {
   "cell_type": "code",
   "execution_count": 27,
   "id": "489c51c1",
   "metadata": {},
   "outputs": [
    {
     "data": {
      "text/html": [
       "<pre class=\"language-APL\">┌─────────────────────┬─────────────────────┬─────────────────────┬─────────────────────┬─────────────────────┐\n",
       "│ 1.2865 1.9487 0.9162│ 0.2574 8.3176 7.8539│ 6.4968 6.8437 2.4338│ 4.4242 8.5030 6.9649│ 7.7328 7.5307 6.1395│\n",
       "├─────────────────────┼─────────────────────┼─────────────────────┼─────────────────────┼─────────────────────┤\n",
       "│ 4.4834 3.8348 6.6916│ 0.9043 6.4986 6.5530│ 4.3462 2.5162 6.6025│ 0.6894 3.8396 4.1012│ 5.2971 8.1089 7.2471│\n",
       "├─────────────────────┼─────────────────────┼─────────────────────┼─────────────────────┼─────────────────────┤\n",
       "│ 2.5578 1.0717 2.5556│ 7.1092 6.5157 8.8907│ 1.0298 0.0240 8.6205│ 2.7732 8.3349 3.1990│ 6.9311 5.7174 8.6618│\n",
       "├─────────────────────┼─────────────────────┼─────────────────────┼─────────────────────┼─────────────────────┤\n",
       "│ 3.5804 8.5652 3.8853│ 3.5442 1.6622 3.8627│ 4.6436 5.6392 5.5838│ 8.1334 5.2990 7.6661│ 7.0518 4.7357 1.5512│\n",
       "├─────────────────────┼─────────────────────┼─────────────────────┼─────────────────────┼─────────────────────┤\n",
       "│ 6.5554 8.9713 7.5455│ 8.3806 0.0377 5.4810│ 2.4370 2.5945 5.9824│ 3.9569 7.6951 3.2874│ 4.6646 0.5389 8.7819│\n",
       "└─────────────────────┴─────────────────────┴─────────────────────┴─────────────────────┴─────────────────────┘\n",
       "</pre>"
      ]
     },
     "execution_count": 27,
     "metadata": {},
     "output_type": "execute_result"
    }
   ],
   "source": [
    "4⍕¨(180÷○1)×ea←(○0.05)×?5 5⍴⊂3⍴0  ⍝ generate random low angles, so that there are cells with the same orientation"
   ]
  },
  {
   "cell_type": "markdown",
   "id": "221faadc",
   "metadata": {},
   "source": [
    "we will get:"
   ]
  },
  {
   "cell_type": "code",
   "execution_count": 28,
   "id": "dc0e7d1b",
   "metadata": {},
   "outputs": [
    {
     "data": {
      "text/html": [
       "<pre class=\"language-APL\">┌─────────────┬──────────────┐\n",
       "│2.5  2.5  0  │ 0  1  2  3  4│\n",
       "│0    7.5  7.5│ 5  1  6  7  3│\n",
       "│7.5  7.5  2.5│ 8  9 10 11 12│\n",
       "│5    7.5  7.5│13 14 15 12 16│\n",
       "│7.5  7.5  5  │17 18 14 19 20│\n",
       "│5    5    7.5│              │\n",
       "│5    2.5  7.5│              │\n",
       "│0    5    5  │              │\n",
       "│2.5  0    2.5│              │\n",
       "│7.5  7.5 10  │              │\n",
       "│0    0    7.5│              │\n",
       "│2.5  7.5  2.5│              │\n",
       "│7.5  5    7.5│              │\n",
       "│2.5  7.5  5  │              │\n",
       "│2.5  2.5  5  │              │\n",
       "│5    5    5  │              │\n",
       "│7.5  5    2.5│              │\n",
       "│7.5 10    7.5│              │\n",
       "│7.5  0    5  │              │\n",
       "│5    7.5  2.5│              │\n",
       "│5    0   10  │              │\n",
       "└─────────────┴──────────────┘\n",
       "</pre>"
      ]
     },
     "execution_count": 28,
     "metadata": {},
     "output_type": "execute_result"
    }
   ],
   "source": [
    "uea q←2.5 GQ ea\n",
    "(↑(180÷○1)×uea)q"
   ]
  },
  {
   "cell_type": "markdown",
   "id": "5ceefdf9",
   "metadata": {},
   "source": [
    "### Conversion from Euler angles into quaternions\n",
    "\n",
    "Representing orientations as Euler angles is common practice in the field of crystallography. However, Euler angles are difficult to work with when it is necessary to perform operations with the orientations. In particular, for the calculation of disorientations, it is more convenient to represent orientations as quaternions.\n",
    "\n",
    "To find the quaternion corresponding to a triplet of Euler angles, we will first define the quaternion corresponding to each of the three rotations, and then multiply them.\n",
    "\n",
    "First, we define `QA` to get a quaternion given the axis of rotation and angle:"
   ]
  },
  {
   "cell_type": "code",
   "execution_count": 29,
   "id": "e38e3bc4",
   "metadata": {},
   "outputs": [],
   "source": [
    "UV←×∘(÷(÷2)*⍨+.×⍨)⍨ ⋄ QA←((⊂2○⊢),(⊂1○⊢)∘.×∘UV{⍺←z ⋄ ⍺})∘(÷∘2)"
   ]
  },
  {
   "cell_type": "markdown",
   "id": "d6695831",
   "metadata": {},
   "source": [
    "We also need a quaternion product function. We will use the [Hamilton product](https://en.wikipedia.org/wiki/Quaternion#Hamilton_product). First, we multiply the components of the left quaternion by the components of the right quaternion specified in `c`, and then multiply by the signs in `u` and add the rows to get the resulting quaternion:"
   ]
  },
  {
   "cell_type": "code",
   "execution_count": 30,
   "id": "2c25ab23",
   "metadata": {},
   "outputs": [],
   "source": [
    "c←↑(0 1 2 3)(1 0 3 2)(2 3 0 1)(3 2 1 0)        ⍝ product components ⎕IO=0\n",
    "u←↑(1 ¯1 ¯1 ¯1)(1 1 1 ¯1)(1 ¯1 1 1)(1 1 ¯1 1)  ⍝ product unit factors\n",
    "QP←+/u×⊣(×⍤1)(⊂c)⌷⊢                            ⍝ product, conjugate and dot product"
   ]
  },
  {
   "cell_type": "markdown",
   "id": "5ce10713",
   "metadata": {},
   "source": [
    "Finally, we can define our `QED` function to transform Euler angles into quaternions:"
   ]
  },
  {
   "cell_type": "code",
   "execution_count": 31,
   "id": "f6eed206",
   "metadata": {},
   "outputs": [],
   "source": [
    "(x y z)←=∘⊂⍨⍳3 ⋄ QE←⊃{⍺←z x z ⋄ ⍺}QP.QA⊢ ⋄ RD←180÷⍨○ ⋄ QED←QE∘RD"
   ]
  },
  {
   "cell_type": "markdown",
   "id": "ae25e614",
   "metadata": {},
   "source": [
    "If we wanted to convert the orientations that we calculated before:"
   ]
  },
  {
   "cell_type": "code",
   "execution_count": 32,
   "id": "c29e4779",
   "metadata": {},
   "outputs": [
    {
     "data": {
      "text/html": [
       "<pre class=\"language-APL\"> 0.9995 0.0218  0.0005 0.0218\n",
       " 0.9957 0.0653 ¯0.0043 0.0653\n",
       " 0.9941 0.0653  0.0029 0.0870\n",
       " 0.9919 0.0654 ¯0.0014 0.1086\n",
       " 0.9919 0.0654  0.0014 0.1086\n",
       " 0.9931 0.0436 ¯0.0010 0.1088\n",
       " 0.9938 0.0218 ¯0.0005 0.1088\n",
       " 0.9981 0.0436 ¯0.0019 0.0436\n",
       " 0.9990 0.0000  0.0000 0.0436\n",
       " 0.9862 0.0654 ¯0.0014 0.1518\n",
       " 0.9979 0.0000  0.0000 0.0654\n",
       " 0.9969 0.0654  0.0000 0.0435\n",
       " 0.9905 0.0436  0.0000 0.1304\n",
       " 0.9957 0.0654 ¯0.0014 0.0653\n",
       " 0.9976 0.0218 ¯0.0005 0.0654\n",
       " 0.9952 0.0436  0.0000 0.0871\n",
       " 0.9952 0.0436  0.0019 0.0871\n",
       " 0.9877 0.0872  0.0000 0.1300\n",
       " 0.9941 0.0000  0.0000 0.1089\n",
       " 0.9957 0.0654  0.0014 0.0653\n",
       " 0.9914 0.0000  0.0000 0.1305\n",
       "</pre>"
      ]
     },
     "execution_count": 32,
     "metadata": {},
     "output_type": "execute_result"
    }
   ],
   "source": [
    "4⍕⍉↑qs←QE↓⍉↑uea"
   ]
  },
  {
   "cell_type": "markdown",
   "id": "64ac43e3",
   "metadata": {},
   "source": [
    "### Misorientation level\n",
    "\n",
    "A misorientation can be calculated as a quaternion that represents the rotation between both orientations. We will only be interested in the misorientation angle, also called *disorientation*. Of course, a disorientation is always in the range between 0 and 360 degrees. Under cubic symmetry, it can be proven that the maximum disorientation is 62.8 degrees.\n",
    "\n",
    "It can be specified, as a user parameter, what precission will be used for misorientation angles. A typicial value is 0.5 degrees. Then, it will be possible to represent the index with a single byte (in fact, it would be enough with 7 bits).\n",
    "\n",
    "The `ML` function takes a misorientation angle in radians as right argument and an optional angle step in degrees as left argument."
   ]
  },
  {
   "cell_type": "code",
   "execution_count": 33,
   "id": "d27f9d13",
   "metadata": {},
   "outputs": [],
   "source": [
    "ML←{⍺←0.5 ⋄ ⌊(180×⍵)÷○⍺}"
   ]
  },
  {
   "cell_type": "markdown",
   "id": "c7201363",
   "metadata": {},
   "source": [
    "### Calculation of misorientation angle\n",
    "\n",
    "We can easily calculate the quaternion necessary to rotate a quaternion into another. But, since we are only interested in the misorientation angle, we only need to calculate the scalar part of the product. We can obtain this scalar part as the dot product by the conjugate. However, we must also take symmetry into account, testing all the possible variants and chosing the minimum angle.\n",
    "\n",
    "#### Dot product\n",
    "\n",
    "The dot product of two quaternions (obtained, like for vectors, multiplying and adding their elements), after getting the conjugate of one of them, will result in the cosine of the half-angle between both quaternions."
   ]
  },
  {
   "cell_type": "code",
   "execution_count": 34,
   "id": "1cfc008f",
   "metadata": {},
   "outputs": [],
   "source": [
    "QC←×∘(1,-3⍴1) ⋄ QD←+.×  ⍝ product, conjugate and dot product"
   ]
  },
  {
   "cell_type": "markdown",
   "id": "96d68431",
   "metadata": {},
   "source": [
    "#### Cubic symmetry\n",
    "\n",
    "There are a total of 24 variants. Each of these variants can be represented as a rotation:"
   ]
  },
  {
   "cell_type": "code",
   "execution_count": 35,
   "id": "93ca0f2d",
   "metadata": {},
   "outputs": [],
   "source": [
    "QAD←QA∘RD\n",
    "cs ← ⊂1 0 0 0                                                ⍝   identity\n",
    "cs,←,(1 0 0)(0 1 0)(0 0 1)∘.QAD 90 180 270                   ⍝   4-fold around <001>\n",
    "cs,←,(1 1 1)(¯1 1 1)(1 ¯1 1)(1 1 ¯1)∘.QAD 120 240            ⍝   3-fold around <111>\n",
    "cs,←,(1 1 0)(1 0 1)(0 1 1)(1 ¯1 0)(¯1 0 1)(0 1 ¯1)∘.QAD 180  ⍝   2-fold around <110>"
   ]
  },
  {
   "cell_type": "markdown",
   "id": "f2cd6e3c",
   "metadata": {},
   "source": [
    "When we have an orientation represented by a quaternion, we can compose it with one of these rotations, multiplying the quaternions, to obtain the symmetric variants of our orientation.\n",
    "\n",
    "#### Disorientation under symmetry\n",
    "\n",
    "To calculate disorientations between two orientations, represented as two quaternions, under symmetry, we will first multiply one of the quaternions by the conjugate of the other, and then will calculate the 24 dot products of the symmetry quaternions with the conjugate of the result. Finally, we choose the maximum value, which will be the maximum cosine of the half angle, and calculate the corresponding angle."
   ]
  },
  {
   "cell_type": "code",
   "execution_count": 36,
   "id": "dcf551e3",
   "metadata": {},
   "outputs": [],
   "source": [
    "_D←{⊃2×¯2○1⌊⍺⍺⌈.(|QD)⊂QC⍺QP QC⍵} ⋄ DC←cs _D  ⍝ disorientation under symmetry ⍺⍺ and under cubic symmetry"
   ]
  },
  {
   "cell_type": "markdown",
   "id": "0f087a4c",
   "metadata": {},
   "source": [
    "### Memoization\n",
    "\n",
    "As previously said, many boundaries will be equal, between the same pair of orientations. Since calculating disorientations is an expensive operation, it will be convenient to avoid calculating the same one twice. The technique used to achieve this goal is called *memoization* and consists in storing the results calculated for each pair of arguments. If the same result is needed again, the stored result is retrieved and returned, instead of being calculated again.\n",
    "\n",
    "Taking into account that calculating the disorientation for a pair of orientations is a commutative operation, and that the disorientation of an orientation with itself will always be zero (and there is no need to store all those zeros), we will need a total of `n×(n-1)÷2` elements for `n` orientations. We will initialize all disorientations to a negative value, so that we know that it is not a valid misorientation level. The function `MC` returns a initiallised misorientations cache of the right size for `⍵` orientations."
   ]
  },
  {
   "cell_type": "code",
   "execution_count": 37,
   "id": "a12e7631",
   "metadata": {},
   "outputs": [],
   "source": [
    "MC←{¯1⍴⍵×(⍵-1)÷2}"
   ]
  },
  {
   "cell_type": "markdown",
   "id": "2313b812",
   "metadata": {},
   "source": [
    "The function `IM` returns the index of the misorientation given two pairs of orientation indices. It assumes that `⍺` is larger than `⍵`. If we want it to work with any `⍺≠⍵` we can run instead the train `⌈IM⌊`."
   ]
  },
  {
   "cell_type": "code",
   "execution_count": 38,
   "id": "31d23f72",
   "metadata": {},
   "outputs": [],
   "source": [
    "IM←{⍵+⍺×(⍺-1)÷2}"
   ]
  },
  {
   "cell_type": "markdown",
   "id": "ddaceb54",
   "metadata": {},
   "source": [
    "Finally, the function `M` will return a namespace `m` that contains an `m.M` function which can be used to get the misorientation angle between two orientations (or two sets of orientations). This function will check if both orientations are the same and return 0, or will try to retrieve a previously calculated value from the cache. The disorientations that are not stored in the cache, will be calculated and stored before being returned.\n",
    "\n",
    "In order to define `m.M`, we first define an operator `_M_` which takes as operands the orientations to consider and the cache of misorientations (returned by `MC`). In addition to the `M` function, the `m` namespace includes the functions `MC` and `IM`, a curried version of `ML`, as well as a degrees version (simply called `L`). The `D` function performs the inverse of `L`."
   ]
  },
  {
   "cell_type": "code",
   "execution_count": 39,
   "id": "dbe39821",
   "metadata": {},
   "outputs": [],
   "source": [
    "]dinput\n",
    "M←{⍺←0.5                                                         ⍝ namespace to calculate misorientations\n",
    "    IM←⌈(⊢+2÷⍨⊣×1-⍨⊣)⌊ ⋄ CM←{(c←⎕NS⍬).m←¯1⍴⍨1+⍵IM.-1 2 ⋄ c}      ⍝ index and cache of misorientations\n",
    "    _M_ ← {(c s)←⍺⍺ ⍵⍵                                           ⍝ memoization\n",
    "        (a w)←(⊂,d←⍺≠⍵)/∘,¨⍺ ⍵ ⋄ 0=≢a:d                          ⍝   return zeros if no different pairs\n",
    "        n←(≠,i)∧s.m[i←a IM w]<0 ⋄ 0=≢p←n/⍥,i:s.m[i]@⊢d           ⍝   return calculated if all done\n",
    "        s.m[p]←ML⊃a MC⍥{↓⍉↑c[n/⍵]}w ⋄ s.m[i]@⊢d                  ⍝   calculate and return\n",
    "    }\n",
    "    m←⎕NS'MC' 'IM' ⋄ m.ML←⍺∘ML ⋄ m.L←m.ML RD                     ⍝ namespace with curried ML\n",
    "    m.D←(⍺÷2)+⍺∘× ⋄ w←↓⍉↑⍵ ⋄ m.M←w _M_(CM≢w) ⋄ m                 ⍝ degrees and misorientation functions\n",
    "}"
   ]
  },
  {
   "cell_type": "markdown",
   "id": "f01bfdd6",
   "metadata": {},
   "source": [
    "### Euler namespace\n",
    "\n",
    "All orientations and misorientations related operations are defined in the `Euler` namespace."
   ]
  },
  {
   "cell_type": "code",
   "execution_count": 40,
   "id": "88372918",
   "metadata": {},
   "outputs": [],
   "source": [
    ":Namespace Euler                                                     ⍝ Orientations and misorientations\n",
    "\n",
    "    c←↑(0 1 2 3)(1 0 3 2)(2 3 0 1)(3 2 1 0)                          ⍝ product components ⎕IO=0\n",
    "    u←↑(1 ¯1 ¯1 ¯1)(1 1 1 ¯1)(1 ¯1 1 1)(1 1 ¯1 1)                    ⍝ product unit factors\n",
    "    QP←+/u×⊣(×⍤1)(⊂c)⌷⊢ ⋄ QC←×∘(1,-3⍴1) ⋄ QD←+.×∘QC                  ⍝ product, conjugate and dot product\n",
    "                                                                     ⍝ quaternion from Euler angles\n",
    "    RD←180÷⍨○ ⋄ UV←×∘(÷(÷2)*⍨+.×⍨)⍨ ⋄ (x y z)←=∘⊂⍨⍳3                 ⍝   degrees, unitary vector and unit vectors\n",
    "    QA←((⊂2○⊢),(⊂1○⊢)∘.×∘UV{⍺←z ⋄ ⍺})∘(÷∘2) ⋄ QAD←QA∘RD              ⍝   quaternion from axis-angle\n",
    "    QE←⊃{⍺←z x z ⋄ ⍺}QP.QA⊢ ⋄ QED←QE∘RD                              ⍝   quaternion from Euler angles (zxz)\n",
    "                                                                     ⍝ cubic symmetry\n",
    "    cs ← ⊂1 0 0 0                                                    ⍝   identity\n",
    "    cs,←,(1 0 0)(0 1 0)(0 0 1)∘.QAD 90 180 270                       ⍝   4-fold around <001>\n",
    "    cs,←,(1 1 1)(¯1 1 1)(1 ¯1 1)(1 1 ¯1)∘.QAD 120 240                ⍝   3-fold around <111>\n",
    "    cs,←,(1 1 0)(1 0 1)(0 1 1)(1 ¯1 0)(¯1 0 1)(0 1 ¯1)∘.QAD 180      ⍝   2-fold around <110>\n",
    "    MC←⊃2×¯2○1⌊cs⌈.(|QD)∘⊂QP∘QC ⋄ ML←⌊○⍤⊣÷⍨180×⊢                     ⍝ misorientation (cubic symmetry) and level\n",
    "    M←{⍺←0.5                                                         ⍝ namespace to calculate misorientations\n",
    "        IM←⌈(⊢+2÷⍨⊣×1-⍨⊣)⌊ ⋄ CM←{(c←⎕NS⍬).m←¯1⍴⍨1+⍵IM.-1 2 ⋄ c}      ⍝ index and cache of misorientations\n",
    "        _M_ ← {(c s)←⍺⍺ ⍵⍵                                           ⍝ memoization\n",
    "            (a w)←(⊂,d←⍺≠⍵)/∘,¨⍺ ⍵ ⋄ 0=≢a:d                          ⍝   return zeros if no different pairs\n",
    "            n←(≠,i)∧s.m[i←a IM w]<0 ⋄ 0=≢p←n/⍥,i:s.m[i]@⊢d           ⍝   return calculated if all done\n",
    "            s.m[p]←ML⊃a MC⍥{↓⍉↑c[n/⍵]}w ⋄ s.m[i]@⊢d                  ⍝   calculate and return\n",
    "        }\n",
    "        m←⎕NS'MC' 'IM' ⋄ m.ML←⍺∘ML ⋄ m.L←m.ML RD                     ⍝ namespace with curried ML\n",
    "        m.D←(⍺÷2)+⍺∘× ⋄ w←↓⍉↑⍵ ⋄ m.M←w _M_(CM≢w) ⋄ m                 ⍝ degrees and misorientation functions\n",
    "    }\n",
    ":EndNamespace"
   ]
  },
  {
   "cell_type": "markdown",
   "id": "b67f4ba2",
   "metadata": {},
   "source": [
    "## Disorientation dependent magnitudes\n",
    "\n",
    "There is a number of magnitudes in the model which depend on the value of the misorientation angle between pairs of grains.\n",
    "\n",
    "Since we will use a discrete number of misorientation levels (as defined by the `ML` function), we will only need to calculate said magnitudes at these discrete values. This can be done only once at the beginning of the simulation. And then, during the iterative process, we will only need to get the previously calculated values.\n",
    "\n",
    "### Boundary energy\n",
    "\n",
    "It is obtained according to the Read-Shockley equation:\n",
    "\n",
    "$$G_B(\\theta_{ij}) = G_0 \\frac{\\theta_{ij}}{\\theta_{HAGB}}\\left(1 - \\log\\left(\\frac{\\theta_{ij}}{\\theta_{HAGB}}\\right)\\right)$$\n",
    "\n",
    "where $\\theta_{ij}$ is the misorientation angle between cells $i$ and $j$, $\\theta_{HAGB}$ is the high angle grain boundary, and $G_0$ is a material constant (eg: 3000 J/mol). In APL:"
   ]
  },
  {
   "cell_type": "code",
   "execution_count": 41,
   "id": "158367ff",
   "metadata": {},
   "outputs": [],
   "source": [
    "G0←3000 ⋄ hagb←15\n",
    "g←(G0×⊢×1-⍟)@(0∘<)¨1⌊h÷⍨⍳1+h←ML(180÷⍨○)hagb"
   ]
  },
  {
   "cell_type": "code",
   "execution_count": 42,
   "id": "c87b2afd",
   "metadata": {},
   "outputs": [
    {
     "data": {
      "text/html": [
       "<svg version=\"1.1\" baseProfile=\"full\" width=\"100%\" height=\"100%\" viewBox=\"0 0 4320 3240\"  xmlns=\"http://www.w3.org/2000/svg\" xmlns:xlink=\"http://www.w3.org/1999/xlink\" xmlns:ev=\"http://www.w3.org/2001/xml-events\" >\n",
       "<desc>Created by Causeway SVG engine - SharpPlot v3.71.0</desc>\n",
       "<g stroke-miterlimit=\"100\">\n",
       "<desc>Paint the paper =====</desc>\n",
       " <g fill=\"White\" >\n",
       "  <rect x=\"0\" y=\"0\" width=\"4320\" height=\"3240\" />\n",
       " </g>\n",
       "<desc>Border =====</desc>\n",
       "<desc>Region =====</desc>\n",
       "<desc>X-Axis Ticks =====</desc>\n",
       "<desc>X-Axis tickmarks</desc>\n",
       " <path fill=\"none\" stroke-width=\"7.2\" stroke=\"Black\" d=\"M400 2720L400 2764M631 2720L631 2764M863 2720L863 2764M1094 2720L1094 2764M1325 2720L1325 2764M1556 2720L1556 2764M1788 2720L1788 2764M2019 2720L2019 2764M2250 2720L2250 2764M2481 2720L2481 2764M2713 2720L2713 2764M2944 2720L2944 2764M3175 2720L3175 2764M3406 2720L3406 2764M3638 2720L3638 2764M3869 2720L3869 2764M4100 2720L4100 2764\"/>\n",
       "<desc>Y-Axis Ticks =====</desc>\n",
       "<desc>Y-Axis tickmarks</desc>\n",
       " <path fill=\"none\" stroke-width=\"7.2\" stroke=\"Black\" d=\"M400 2720L367 2720M400 2343L367 2343M400 1967L367 1967M400 1590L367 1590M400 1213L367 1213M400 837L367 837M400 460L367 460\"/>\n",
       "<desc>Axes =====</desc>\n",
       " <path fill=\"none\" stroke-width=\"12\" stroke=\"Black\" d=\"M400 2764L400 416M356 2720L4144 2720\"/>\n",
       "<desc>Y-axis labels</desc>\n",
       " <g font-family=\"Times New Roman\" font-size=\"80\" text-anchor=\"end\" >\n",
       "  <text x=\"335\" y=\"2740\" >0</text>\n",
       "  <text x=\"335\" y=\"2363\" >500</text>\n",
       "  <text x=\"335\" y=\"1987\" >1000</text>\n",
       "  <text x=\"335\" y=\"1610\" >1500</text>\n",
       "  <text x=\"335\" y=\"1233\" >2000</text>\n",
       "  <text x=\"335\" y=\"857\" >2500</text>\n",
       "  <text x=\"335\" y=\"480\" >3000</text>\n",
       " </g>\n",
       "<desc>for X-axis labels</desc>\n",
       " <g font-family=\"Times New Roman\" font-size=\"80\" text-anchor=\"middle\" >\n",
       "  <text x=\"400\" y=\"2844\" >0</text>\n",
       "  <text x=\"631\" y=\"2844\" >2</text>\n",
       "  <text x=\"863\" y=\"2844\" >4</text>\n",
       "  <text x=\"1094\" y=\"2844\" >6</text>\n",
       "  <text x=\"1325\" y=\"2844\" >8</text>\n",
       "  <text x=\"1556\" y=\"2844\" >10</text>\n",
       "  <text x=\"1788\" y=\"2844\" >12</text>\n",
       "  <text x=\"2019\" y=\"2844\" >14</text>\n",
       "  <text x=\"2250\" y=\"2844\" >16</text>\n",
       "  <text x=\"2481\" y=\"2844\" >18</text>\n",
       "  <text x=\"2713\" y=\"2844\" >20</text>\n",
       "  <text x=\"2944\" y=\"2844\" >22</text>\n",
       "  <text x=\"3175\" y=\"2844\" >24</text>\n",
       "  <text x=\"3406\" y=\"2844\" >26</text>\n",
       "  <text x=\"3638\" y=\"2844\" >28</text>\n",
       "  <text x=\"3869\" y=\"2844\" >30</text>\n",
       "  <text x=\"4100\" y=\"2844\" >32</text>\n",
       " </g>\n",
       "<desc>Heading, subheading and footnotes =====</desc>\n",
       "<desc>Start of Line Chart ===========</desc>\n",
       "<desc>Points follow ...</desc>\n",
       "<desc>Line</desc>\n",
       " <g stroke-width=\"3\" stroke=\"Navy\" stroke-linejoin=\"round\" stroke-linecap=\"round\" fill=\"none\" >\n",
       "  <path d=\"M3984 460L3869 461 3753 465 3638 472 3522 481 3406 493 3291 509 3175 527 3059 549 2944 574 2828 602 2713 635 2597 671 2481 712 2366 757 2250 807 2134 862 2019 922 1903 988 1788 1060 1672 1139 1556 1226 1441 1321 1325 1425 1209 1541 1094 1668 978 1812 863 1974 747 2161 631 2388 516 2720\" />\n",
       " </g>\n",
       "<desc>Reset to original origin</desc>\n",
       "</g>\n",
       "</svg>\n"
      ]
     },
     "execution_count": 42,
     "metadata": {},
     "output_type": "execute_result"
    }
   ],
   "source": [
    "]plot g"
   ]
  },
  {
   "cell_type": "markdown",
   "id": "b0bf5e53",
   "metadata": {},
   "source": [
    "### Boundary mobility\n",
    "\n",
    "Boundary mobilities are calculated using Humphrey's law:\n",
    "\n",
    "$$M(T, \\theta_{ij})=M_0 \\exp\\left(\\frac{-Q_g}{8.314\\,T}\\right) \\left(1-\\exp\\left(-A\\left(\\frac{\\theta_{ij}}{\\theta_{HAGB}}\\right)^n\\right)\\right)$$\n",
    "\n",
    "where $Q_g$ is the activation energy for boundary migration and $T$ is the temperature. $M_0$, $A$ and $n$ are material constants."
   ]
  },
  {
   "cell_type": "code",
   "execution_count": 43,
   "id": "b45c0d88",
   "metadata": {},
   "outputs": [],
   "source": [
    "M0←2.84E¯6 ⋄ Qg←140E3 ⋄ A←5 ⋄ n←4\n",
    "T←1273 ⋄ m←(M0×*-Qg÷8.314×T)×1-*-A×n*⍨h÷⍨⍳1+h  ⍝ grain boundary mobility at 1000 C"
   ]
  },
  {
   "cell_type": "code",
   "execution_count": 44,
   "id": "1bdb1514",
   "metadata": {},
   "outputs": [
    {
     "data": {
      "text/html": [
       "<svg version=\"1.1\" baseProfile=\"full\" width=\"100%\" height=\"100%\" viewBox=\"0 0 4320 3240\"  xmlns=\"http://www.w3.org/2000/svg\" xmlns:xlink=\"http://www.w3.org/1999/xlink\" xmlns:ev=\"http://www.w3.org/2001/xml-events\" >\n",
       "<desc>Created by Causeway SVG engine - SharpPlot v3.71.0</desc>\n",
       "<g stroke-miterlimit=\"100\">\n",
       "<desc>Paint the paper =====</desc>\n",
       " <g fill=\"White\" >\n",
       "  <rect x=\"0\" y=\"0\" width=\"4320\" height=\"3240\" />\n",
       " </g>\n",
       "<desc>Border =====</desc>\n",
       "<desc>Region =====</desc>\n",
       "<desc>X-Axis Ticks =====</desc>\n",
       "<desc>X-Axis tickmarks</desc>\n",
       " <path fill=\"none\" stroke-width=\"7.2\" stroke=\"Black\" d=\"M400 2720L400 2764M631 2720L631 2764M863 2720L863 2764M1094 2720L1094 2764M1325 2720L1325 2764M1556 2720L1556 2764M1788 2720L1788 2764M2019 2720L2019 2764M2250 2720L2250 2764M2481 2720L2481 2764M2713 2720L2713 2764M2944 2720L2944 2764M3175 2720L3175 2764M3406 2720L3406 2764M3638 2720L3638 2764M3869 2720L3869 2764M4100 2720L4100 2764\"/>\n",
       "<desc>Y-Axis Ticks =====</desc>\n",
       "<desc>Y-Axis tickmarks</desc>\n",
       " <path fill=\"none\" stroke-width=\"7.2\" stroke=\"Black\" d=\"M400 2720L367 2720M400 2515L367 2515M400 2309L367 2309M400 2104L367 2104M400 1898L367 1898M400 1693L367 1693M400 1487L367 1487M400 1282L367 1282M400 1076L367 1076M400 871L367 871M400 665L367 665M400 460L367 460\"/>\n",
       "<desc>Axes =====</desc>\n",
       " <path fill=\"none\" stroke-width=\"12\" stroke=\"Black\" d=\"M400 2764L400 416M356 2720L4144 2720\"/>\n",
       "<desc>Y-axis labels</desc>\n",
       " <g font-family=\"Times New Roman\" font-size=\"80\" text-anchor=\"end\" >\n",
       "  <text x=\"335\" y=\"2740\" >0</text>\n",
       "  <text x=\"335\" y=\"2535\" >5E-13</text>\n",
       "  <text x=\"335\" y=\"2329\" >1E-12</text>\n",
       "  <text x=\"335\" y=\"2124\" >1.5E-12</text>\n",
       "  <text x=\"335\" y=\"1918\" >2E-12</text>\n",
       "  <text x=\"335\" y=\"1713\" >2.5E-12</text>\n",
       "  <text x=\"335\" y=\"1507\" >3E-12</text>\n",
       "  <text x=\"335\" y=\"1302\" >3.5E-12</text>\n",
       "  <text x=\"335\" y=\"1096\" >4E-12</text>\n",
       "  <text x=\"335\" y=\"891\" >4.5E-12</text>\n",
       "  <text x=\"335\" y=\"685\" >5E-12</text>\n",
       "  <text x=\"335\" y=\"480\" >5.5E-12</text>\n",
       " </g>\n",
       "<desc>for X-axis labels</desc>\n",
       " <g font-family=\"Times New Roman\" font-size=\"80\" text-anchor=\"middle\" >\n",
       "  <text x=\"400\" y=\"2844\" >0</text>\n",
       "  <text x=\"631\" y=\"2844\" >2</text>\n",
       "  <text x=\"863\" y=\"2844\" >4</text>\n",
       "  <text x=\"1094\" y=\"2844\" >6</text>\n",
       "  <text x=\"1325\" y=\"2844\" >8</text>\n",
       "  <text x=\"1556\" y=\"2844\" >10</text>\n",
       "  <text x=\"1788\" y=\"2844\" >12</text>\n",
       "  <text x=\"2019\" y=\"2844\" >14</text>\n",
       "  <text x=\"2250\" y=\"2844\" >16</text>\n",
       "  <text x=\"2481\" y=\"2844\" >18</text>\n",
       "  <text x=\"2713\" y=\"2844\" >20</text>\n",
       "  <text x=\"2944\" y=\"2844\" >22</text>\n",
       "  <text x=\"3175\" y=\"2844\" >24</text>\n",
       "  <text x=\"3406\" y=\"2844\" >26</text>\n",
       "  <text x=\"3638\" y=\"2844\" >28</text>\n",
       "  <text x=\"3869\" y=\"2844\" >30</text>\n",
       "  <text x=\"4100\" y=\"2844\" >32</text>\n",
       " </g>\n",
       "<desc>Heading, subheading and footnotes =====</desc>\n",
       "<desc>Start of Line Chart ===========</desc>\n",
       "<desc>Points follow ...</desc>\n",
       "<desc>Line</desc>\n",
       " <g stroke-width=\"3\" stroke=\"Navy\" stroke-linejoin=\"round\" stroke-linecap=\"round\" fill=\"none\" >\n",
       "  <path d=\"M3984 634L3869 646 3753 667 3638 699 3522 745 3406 808 3291 891 3175 993 3059 1114 2944 1252 2828 1402 2713 1559 2597 1718 2481 1874 2366 2021 2250 2156 2134 2277 2019 2381 1903 2468 1788 2539 1672 2594 1556 2637 1441 2668 1325 2689 1209 2703 1094 2712 978 2717 863 2719 747 2720 631 2720 516 2720\" />\n",
       " </g>\n",
       "<desc>Reset to original origin</desc>\n",
       "</g>\n",
       "</svg>\n"
      ]
     },
     "execution_count": 44,
     "metadata": {},
     "output_type": "execute_result"
    }
   ],
   "source": [
    "]plot m"
   ]
  }
 ],
 "metadata": {
  "kernelspec": {
   "display_name": "Dyalog APL",
   "language": "apl",
   "name": "dyalog-kernel"
  },
  "language_info": {
   "file_extension": ".apl",
   "mimetype": "text/apl",
   "name": "APL"
  }
 },
 "nbformat": 4,
 "nbformat_minor": 5
}
